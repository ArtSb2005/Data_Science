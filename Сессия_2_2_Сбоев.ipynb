{
  "nbformat": 4,
  "nbformat_minor": 0,
  "metadata": {
    "colab": {
      "name": "WS Сессия 2.ipynb",
      "provenance": [],
      "collapsed_sections": []
    },
    "kernelspec": {
      "name": "python3",
      "display_name": "Python 3"
    },
    "language_info": {
      "name": "python"
    }
  },
  "cells": [
    {
      "cell_type": "code",
      "execution_count": 400,
      "metadata": {
        "id": "xOBqgx8zarC0"
      },
      "outputs": [],
      "source": [
        "import pandas as pd\n",
        "from sklearn.model_selection import train_test_split\n",
        "import matplotlib.pyplot as plt\n",
        "import re"
      ]
    },
    {
      "cell_type": "markdown",
      "source": [
        "## **2.1 Классификация документов**"
      ],
      "metadata": {
        "id": "iDY9R_Oc0EjA"
      }
    },
    {
      "cell_type": "code",
      "source": [
        "data = pd.read_html(\"/content/Выгрузка 9 апреля.xls\")\n",
        "df = data[1].drop(['№ п/п', '№документа', 'Исх. №Дата', 'Примечание'], axis=1)\n",
        "df.head()"
      ],
      "metadata": {
        "colab": {
          "base_uri": "https://localhost:8080/",
          "height": 206
        },
        "id": "bYsEHY9xbBMO",
        "outputId": "8377a7e7-5457-48da-cd63-a461c5c4cb6f"
      },
      "execution_count": 401,
      "outputs": [
        {
          "output_type": "execute_result",
          "data": {
            "text/html": [
              "\n",
              "  <div id=\"df-f96c3fe7-c850-49ba-a3d3-6a37b156dc1b\">\n",
              "    <div class=\"colab-df-container\">\n",
              "      <div>\n",
              "<style scoped>\n",
              "    .dataframe tbody tr th:only-of-type {\n",
              "        vertical-align: middle;\n",
              "    }\n",
              "\n",
              "    .dataframe tbody tr th {\n",
              "        vertical-align: top;\n",
              "    }\n",
              "\n",
              "    .dataframe thead th {\n",
              "        text-align: right;\n",
              "    }\n",
              "</style>\n",
              "<table border=\"1\" class=\"dataframe\">\n",
              "  <thead>\n",
              "    <tr style=\"text-align: right;\">\n",
              "      <th></th>\n",
              "      <th>Датарегистрации</th>\n",
              "      <th>Адресат</th>\n",
              "      <th>Автор</th>\n",
              "      <th>Краткоесодержание</th>\n",
              "    </tr>\n",
              "  </thead>\n",
              "  <tbody>\n",
              "    <tr>\n",
              "      <th>0</th>\n",
              "      <td>09.04.2019</td>\n",
              "      <td>Уразов Р.Н.</td>\n",
              "      <td>Антонова С.В. (АО «Интерфакс»)</td>\n",
              "      <td>Вх - О возможности использования сетевого изда...</td>\n",
              "    </tr>\n",
              "    <tr>\n",
              "      <th>1</th>\n",
              "      <td>09.04.2019</td>\n",
              "      <td>Уразов Р.Н.</td>\n",
              "      <td>Картошкин С.А. (Министерство просвещения Росси...</td>\n",
              "      <td>Вх - Об участии в совещании по вопросу доработ...</td>\n",
              "    </tr>\n",
              "    <tr>\n",
              "      <th>2</th>\n",
              "      <td>09.04.2019</td>\n",
              "      <td>Уразов Р.Н.</td>\n",
              "      <td>Цивилев С.Е. (Администрация Кемеровской области)</td>\n",
              "      <td>Вх - О командировании Саликовой К. и Глушко Д....</td>\n",
              "    </tr>\n",
              "    <tr>\n",
              "      <th>3</th>\n",
              "      <td>09.04.2019</td>\n",
              "      <td>Иванюк Л.А.</td>\n",
              "      <td>Волков Г.А. (Министерство транспорта Российско...</td>\n",
              "      <td>Вх - Об участии в Чемпионате мира по профессио...</td>\n",
              "    </tr>\n",
              "    <tr>\n",
              "      <th>4</th>\n",
              "      <td>09.04.2019</td>\n",
              "      <td>Уразов Р.Н.</td>\n",
              "      <td>Атанов И.В. (Ставропольский государственный аг...</td>\n",
              "      <td>Вх - Об участии в церемонии открытия Вузовског...</td>\n",
              "    </tr>\n",
              "  </tbody>\n",
              "</table>\n",
              "</div>\n",
              "      <button class=\"colab-df-convert\" onclick=\"convertToInteractive('df-f96c3fe7-c850-49ba-a3d3-6a37b156dc1b')\"\n",
              "              title=\"Convert this dataframe to an interactive table.\"\n",
              "              style=\"display:none;\">\n",
              "        \n",
              "  <svg xmlns=\"http://www.w3.org/2000/svg\" height=\"24px\"viewBox=\"0 0 24 24\"\n",
              "       width=\"24px\">\n",
              "    <path d=\"M0 0h24v24H0V0z\" fill=\"none\"/>\n",
              "    <path d=\"M18.56 5.44l.94 2.06.94-2.06 2.06-.94-2.06-.94-.94-2.06-.94 2.06-2.06.94zm-11 1L8.5 8.5l.94-2.06 2.06-.94-2.06-.94L8.5 2.5l-.94 2.06-2.06.94zm10 10l.94 2.06.94-2.06 2.06-.94-2.06-.94-.94-2.06-.94 2.06-2.06.94z\"/><path d=\"M17.41 7.96l-1.37-1.37c-.4-.4-.92-.59-1.43-.59-.52 0-1.04.2-1.43.59L10.3 9.45l-7.72 7.72c-.78.78-.78 2.05 0 2.83L4 21.41c.39.39.9.59 1.41.59.51 0 1.02-.2 1.41-.59l7.78-7.78 2.81-2.81c.8-.78.8-2.07 0-2.86zM5.41 20L4 18.59l7.72-7.72 1.47 1.35L5.41 20z\"/>\n",
              "  </svg>\n",
              "      </button>\n",
              "      \n",
              "  <style>\n",
              "    .colab-df-container {\n",
              "      display:flex;\n",
              "      flex-wrap:wrap;\n",
              "      gap: 12px;\n",
              "    }\n",
              "\n",
              "    .colab-df-convert {\n",
              "      background-color: #E8F0FE;\n",
              "      border: none;\n",
              "      border-radius: 50%;\n",
              "      cursor: pointer;\n",
              "      display: none;\n",
              "      fill: #1967D2;\n",
              "      height: 32px;\n",
              "      padding: 0 0 0 0;\n",
              "      width: 32px;\n",
              "    }\n",
              "\n",
              "    .colab-df-convert:hover {\n",
              "      background-color: #E2EBFA;\n",
              "      box-shadow: 0px 1px 2px rgba(60, 64, 67, 0.3), 0px 1px 3px 1px rgba(60, 64, 67, 0.15);\n",
              "      fill: #174EA6;\n",
              "    }\n",
              "\n",
              "    [theme=dark] .colab-df-convert {\n",
              "      background-color: #3B4455;\n",
              "      fill: #D2E3FC;\n",
              "    }\n",
              "\n",
              "    [theme=dark] .colab-df-convert:hover {\n",
              "      background-color: #434B5C;\n",
              "      box-shadow: 0px 1px 3px 1px rgba(0, 0, 0, 0.15);\n",
              "      filter: drop-shadow(0px 1px 2px rgba(0, 0, 0, 0.3));\n",
              "      fill: #FFFFFF;\n",
              "    }\n",
              "  </style>\n",
              "\n",
              "      <script>\n",
              "        const buttonEl =\n",
              "          document.querySelector('#df-f96c3fe7-c850-49ba-a3d3-6a37b156dc1b button.colab-df-convert');\n",
              "        buttonEl.style.display =\n",
              "          google.colab.kernel.accessAllowed ? 'block' : 'none';\n",
              "\n",
              "        async function convertToInteractive(key) {\n",
              "          const element = document.querySelector('#df-f96c3fe7-c850-49ba-a3d3-6a37b156dc1b');\n",
              "          const dataTable =\n",
              "            await google.colab.kernel.invokeFunction('convertToInteractive',\n",
              "                                                     [key], {});\n",
              "          if (!dataTable) return;\n",
              "\n",
              "          const docLinkHtml = 'Like what you see? Visit the ' +\n",
              "            '<a target=\"_blank\" href=https://colab.research.google.com/notebooks/data_table.ipynb>data table notebook</a>'\n",
              "            + ' to learn more about interactive tables.';\n",
              "          element.innerHTML = '';\n",
              "          dataTable['output_type'] = 'display_data';\n",
              "          await google.colab.output.renderOutput(dataTable, element);\n",
              "          const docLink = document.createElement('div');\n",
              "          docLink.innerHTML = docLinkHtml;\n",
              "          element.appendChild(docLink);\n",
              "        }\n",
              "      </script>\n",
              "    </div>\n",
              "  </div>\n",
              "  "
            ],
            "text/plain": [
              "  Датарегистрации  ...                                  Краткоесодержание\n",
              "0      09.04.2019  ...  Вх - О возможности использования сетевого изда...\n",
              "1      09.04.2019  ...  Вх - Об участии в совещании по вопросу доработ...\n",
              "2      09.04.2019  ...  Вх - О командировании Саликовой К. и Глушко Д....\n",
              "3      09.04.2019  ...  Вх - Об участии в Чемпионате мира по профессио...\n",
              "4      09.04.2019  ...  Вх - Об участии в церемонии открытия Вузовског...\n",
              "\n",
              "[5 rows x 4 columns]"
            ]
          },
          "metadata": {},
          "execution_count": 401
        }
      ]
    },
    {
      "cell_type": "code",
      "source": [
        "df['Агенство'] = df.Автор.apply(lambda x: x.split(\"(\")[1].replace(')',''))"
      ],
      "metadata": {
        "id": "FKoci_1IlCep"
      },
      "execution_count": 402,
      "outputs": []
    },
    {
      "cell_type": "code",
      "source": [
        "df['Автор'] = df.Автор.apply(lambda x: x.split(\"(\")[0] + x.split(\")\")[1])"
      ],
      "metadata": {
        "id": "X8VgI8KglWi5"
      },
      "execution_count": 403,
      "outputs": []
    },
    {
      "cell_type": "code",
      "source": [
        "agents = []\n",
        "agents_number_one = ['Министерств', 'Правительств', 'Федеральн', 'Администр']\n",
        "for i in df.Агенство:\n",
        "  br = 0\n",
        "  for t in agents_number_one:\n",
        "    if br:\n",
        "      break\n",
        "    if t in i:\n",
        "      br=1\n",
        "      agents.append(1)\n",
        "  if not(br):\n",
        "    agents.append(0)"
      ],
      "metadata": {
        "id": "yME0JarZlZAB"
      },
      "execution_count": 404,
      "outputs": []
    },
    {
      "cell_type": "code",
      "source": [
        "df['Тип_агенства'] = list(agents)\n",
        "df.head()"
      ],
      "metadata": {
        "colab": {
          "base_uri": "https://localhost:8080/",
          "height": 206
        },
        "id": "wFj-I7H1lcDx",
        "outputId": "871339d9-64ee-43f8-bcee-49c44e45e09f"
      },
      "execution_count": 405,
      "outputs": [
        {
          "output_type": "execute_result",
          "data": {
            "text/html": [
              "\n",
              "  <div id=\"df-a9ec2cf2-919d-4d69-823d-2cdca1f15605\">\n",
              "    <div class=\"colab-df-container\">\n",
              "      <div>\n",
              "<style scoped>\n",
              "    .dataframe tbody tr th:only-of-type {\n",
              "        vertical-align: middle;\n",
              "    }\n",
              "\n",
              "    .dataframe tbody tr th {\n",
              "        vertical-align: top;\n",
              "    }\n",
              "\n",
              "    .dataframe thead th {\n",
              "        text-align: right;\n",
              "    }\n",
              "</style>\n",
              "<table border=\"1\" class=\"dataframe\">\n",
              "  <thead>\n",
              "    <tr style=\"text-align: right;\">\n",
              "      <th></th>\n",
              "      <th>Датарегистрации</th>\n",
              "      <th>Адресат</th>\n",
              "      <th>Автор</th>\n",
              "      <th>Краткоесодержание</th>\n",
              "      <th>Агенство</th>\n",
              "      <th>Тип_агенства</th>\n",
              "    </tr>\n",
              "  </thead>\n",
              "  <tbody>\n",
              "    <tr>\n",
              "      <th>0</th>\n",
              "      <td>09.04.2019</td>\n",
              "      <td>Уразов Р.Н.</td>\n",
              "      <td>Антонова С.В.</td>\n",
              "      <td>Вх - О возможности использования сетевого изда...</td>\n",
              "      <td>АО «Интерфакс»</td>\n",
              "      <td>0</td>\n",
              "    </tr>\n",
              "    <tr>\n",
              "      <th>1</th>\n",
              "      <td>09.04.2019</td>\n",
              "      <td>Уразов Р.Н.</td>\n",
              "      <td>Картошкин С.А.</td>\n",
              "      <td>Вх - Об участии в совещании по вопросу доработ...</td>\n",
              "      <td>Министерство просвещения Российской Федерации</td>\n",
              "      <td>1</td>\n",
              "    </tr>\n",
              "    <tr>\n",
              "      <th>2</th>\n",
              "      <td>09.04.2019</td>\n",
              "      <td>Уразов Р.Н.</td>\n",
              "      <td>Цивилев С.Е.</td>\n",
              "      <td>Вх - О командировании Саликовой К. и Глушко Д....</td>\n",
              "      <td>Администрация Кемеровской области</td>\n",
              "      <td>1</td>\n",
              "    </tr>\n",
              "    <tr>\n",
              "      <th>3</th>\n",
              "      <td>09.04.2019</td>\n",
              "      <td>Иванюк Л.А.</td>\n",
              "      <td>Волков Г.А.</td>\n",
              "      <td>Вх - Об участии в Чемпионате мира по профессио...</td>\n",
              "      <td>Министерство транспорта Российской Федерации</td>\n",
              "      <td>1</td>\n",
              "    </tr>\n",
              "    <tr>\n",
              "      <th>4</th>\n",
              "      <td>09.04.2019</td>\n",
              "      <td>Уразов Р.Н.</td>\n",
              "      <td>Атанов И.В.</td>\n",
              "      <td>Вх - Об участии в церемонии открытия Вузовског...</td>\n",
              "      <td>Ставропольский государственный аграрный универ...</td>\n",
              "      <td>0</td>\n",
              "    </tr>\n",
              "  </tbody>\n",
              "</table>\n",
              "</div>\n",
              "      <button class=\"colab-df-convert\" onclick=\"convertToInteractive('df-a9ec2cf2-919d-4d69-823d-2cdca1f15605')\"\n",
              "              title=\"Convert this dataframe to an interactive table.\"\n",
              "              style=\"display:none;\">\n",
              "        \n",
              "  <svg xmlns=\"http://www.w3.org/2000/svg\" height=\"24px\"viewBox=\"0 0 24 24\"\n",
              "       width=\"24px\">\n",
              "    <path d=\"M0 0h24v24H0V0z\" fill=\"none\"/>\n",
              "    <path d=\"M18.56 5.44l.94 2.06.94-2.06 2.06-.94-2.06-.94-.94-2.06-.94 2.06-2.06.94zm-11 1L8.5 8.5l.94-2.06 2.06-.94-2.06-.94L8.5 2.5l-.94 2.06-2.06.94zm10 10l.94 2.06.94-2.06 2.06-.94-2.06-.94-.94-2.06-.94 2.06-2.06.94z\"/><path d=\"M17.41 7.96l-1.37-1.37c-.4-.4-.92-.59-1.43-.59-.52 0-1.04.2-1.43.59L10.3 9.45l-7.72 7.72c-.78.78-.78 2.05 0 2.83L4 21.41c.39.39.9.59 1.41.59.51 0 1.02-.2 1.41-.59l7.78-7.78 2.81-2.81c.8-.78.8-2.07 0-2.86zM5.41 20L4 18.59l7.72-7.72 1.47 1.35L5.41 20z\"/>\n",
              "  </svg>\n",
              "      </button>\n",
              "      \n",
              "  <style>\n",
              "    .colab-df-container {\n",
              "      display:flex;\n",
              "      flex-wrap:wrap;\n",
              "      gap: 12px;\n",
              "    }\n",
              "\n",
              "    .colab-df-convert {\n",
              "      background-color: #E8F0FE;\n",
              "      border: none;\n",
              "      border-radius: 50%;\n",
              "      cursor: pointer;\n",
              "      display: none;\n",
              "      fill: #1967D2;\n",
              "      height: 32px;\n",
              "      padding: 0 0 0 0;\n",
              "      width: 32px;\n",
              "    }\n",
              "\n",
              "    .colab-df-convert:hover {\n",
              "      background-color: #E2EBFA;\n",
              "      box-shadow: 0px 1px 2px rgba(60, 64, 67, 0.3), 0px 1px 3px 1px rgba(60, 64, 67, 0.15);\n",
              "      fill: #174EA6;\n",
              "    }\n",
              "\n",
              "    [theme=dark] .colab-df-convert {\n",
              "      background-color: #3B4455;\n",
              "      fill: #D2E3FC;\n",
              "    }\n",
              "\n",
              "    [theme=dark] .colab-df-convert:hover {\n",
              "      background-color: #434B5C;\n",
              "      box-shadow: 0px 1px 3px 1px rgba(0, 0, 0, 0.15);\n",
              "      filter: drop-shadow(0px 1px 2px rgba(0, 0, 0, 0.3));\n",
              "      fill: #FFFFFF;\n",
              "    }\n",
              "  </style>\n",
              "\n",
              "      <script>\n",
              "        const buttonEl =\n",
              "          document.querySelector('#df-a9ec2cf2-919d-4d69-823d-2cdca1f15605 button.colab-df-convert');\n",
              "        buttonEl.style.display =\n",
              "          google.colab.kernel.accessAllowed ? 'block' : 'none';\n",
              "\n",
              "        async function convertToInteractive(key) {\n",
              "          const element = document.querySelector('#df-a9ec2cf2-919d-4d69-823d-2cdca1f15605');\n",
              "          const dataTable =\n",
              "            await google.colab.kernel.invokeFunction('convertToInteractive',\n",
              "                                                     [key], {});\n",
              "          if (!dataTable) return;\n",
              "\n",
              "          const docLinkHtml = 'Like what you see? Visit the ' +\n",
              "            '<a target=\"_blank\" href=https://colab.research.google.com/notebooks/data_table.ipynb>data table notebook</a>'\n",
              "            + ' to learn more about interactive tables.';\n",
              "          element.innerHTML = '';\n",
              "          dataTable['output_type'] = 'display_data';\n",
              "          await google.colab.output.renderOutput(dataTable, element);\n",
              "          const docLink = document.createElement('div');\n",
              "          docLink.innerHTML = docLinkHtml;\n",
              "          element.appendChild(docLink);\n",
              "        }\n",
              "      </script>\n",
              "    </div>\n",
              "  </div>\n",
              "  "
            ],
            "text/plain": [
              "  Датарегистрации  ... Тип_агенства\n",
              "0      09.04.2019  ...            0\n",
              "1      09.04.2019  ...            1\n",
              "2      09.04.2019  ...            1\n",
              "3      09.04.2019  ...            1\n",
              "4      09.04.2019  ...            0\n",
              "\n",
              "[5 rows x 6 columns]"
            ]
          },
          "metadata": {},
          "execution_count": 405
        }
      ]
    },
    {
      "cell_type": "code",
      "source": [
        "df_train.isna().sum()"
      ],
      "metadata": {
        "colab": {
          "base_uri": "https://localhost:8080/"
        },
        "id": "Sj71qMWzbpKh",
        "outputId": "b9911614-266f-4bbe-c4ca-6a70d0099a0b"
      },
      "execution_count": 406,
      "outputs": [
        {
          "output_type": "execute_result",
          "data": {
            "text/plain": [
              "Датарегистрации      0\n",
              "Адресат              0\n",
              "Автор                0\n",
              "Краткоесодержание    0\n",
              "Агенство             0\n",
              "Тип_агенства         0\n",
              "dtype: int64"
            ]
          },
          "metadata": {},
          "execution_count": 406
        }
      ]
    },
    {
      "cell_type": "code",
      "source": [
        "df_train = df_train.fillna(-1)"
      ],
      "metadata": {
        "id": "YxzY-Yo-byCo"
      },
      "execution_count": 407,
      "outputs": []
    },
    {
      "cell_type": "code",
      "source": [
        "df_train.isna().sum()"
      ],
      "metadata": {
        "colab": {
          "base_uri": "https://localhost:8080/"
        },
        "id": "sL2DHGlDb-WS",
        "outputId": "dea5a4bb-be85-430a-b79d-e7b703d38711"
      },
      "execution_count": 408,
      "outputs": [
        {
          "output_type": "execute_result",
          "data": {
            "text/plain": [
              "Датарегистрации      0\n",
              "Адресат              0\n",
              "Автор                0\n",
              "Краткоесодержание    0\n",
              "Агенство             0\n",
              "Тип_агенства         0\n",
              "dtype: int64"
            ]
          },
          "metadata": {},
          "execution_count": 408
        }
      ]
    },
    {
      "cell_type": "code",
      "source": [
        "df_test.isna().sum()"
      ],
      "metadata": {
        "colab": {
          "base_uri": "https://localhost:8080/"
        },
        "id": "lgJ-Uf2cfShI",
        "outputId": "9ff9e5f5-799b-490f-8363-4c0a363d47a1"
      },
      "execution_count": 409,
      "outputs": [
        {
          "output_type": "execute_result",
          "data": {
            "text/plain": [
              "Датарегистрации      0\n",
              "Адресат              0\n",
              "Автор                0\n",
              "Краткоесодержание    0\n",
              "Агенство             0\n",
              "Тип_агенства         0\n",
              "dtype: int64"
            ]
          },
          "metadata": {},
          "execution_count": 409
        }
      ]
    },
    {
      "cell_type": "code",
      "source": [
        "df_test = df_test.fillna(-1)"
      ],
      "metadata": {
        "id": "FrGtHTxffXp_"
      },
      "execution_count": 410,
      "outputs": []
    },
    {
      "cell_type": "code",
      "source": [
        "df_test.isna().sum()"
      ],
      "metadata": {
        "colab": {
          "base_uri": "https://localhost:8080/"
        },
        "id": "djSdD9rZfcpm",
        "outputId": "3d4ac8a1-877d-4f7f-adf1-813def22f6a9"
      },
      "execution_count": 411,
      "outputs": [
        {
          "output_type": "execute_result",
          "data": {
            "text/plain": [
              "Датарегистрации      0\n",
              "Адресат              0\n",
              "Автор                0\n",
              "Краткоесодержание    0\n",
              "Агенство             0\n",
              "Тип_агенства         0\n",
              "dtype: int64"
            ]
          },
          "metadata": {},
          "execution_count": 411
        }
      ]
    },
    {
      "cell_type": "code",
      "source": [
        "df_test.shape"
      ],
      "metadata": {
        "colab": {
          "base_uri": "https://localhost:8080/"
        },
        "id": "PZLiavGdc8mm",
        "outputId": "21056365-9f62-4c00-ddf0-a08bc8951460"
      },
      "execution_count": 412,
      "outputs": [
        {
          "output_type": "execute_result",
          "data": {
            "text/plain": [
              "(1242, 6)"
            ]
          },
          "metadata": {},
          "execution_count": 412
        }
      ]
    },
    {
      "cell_type": "code",
      "source": [
        "df_train.shape"
      ],
      "metadata": {
        "colab": {
          "base_uri": "https://localhost:8080/"
        },
        "id": "gKaGgMw6fmfG",
        "outputId": "1b498ac6-f2da-4d91-f4fd-7446942dace6"
      },
      "execution_count": 413,
      "outputs": [
        {
          "output_type": "execute_result",
          "data": {
            "text/plain": [
              "(3725, 6)"
            ]
          },
          "metadata": {},
          "execution_count": 413
        }
      ]
    },
    {
      "cell_type": "code",
      "source": [
        "df_train.shape[0]/df_test.shape[0]"
      ],
      "metadata": {
        "colab": {
          "base_uri": "https://localhost:8080/"
        },
        "id": "YIxYF0xIgnCP",
        "outputId": "bb66cc25-a627-4a94-ae85-62eb0950441b"
      },
      "execution_count": 414,
      "outputs": [
        {
          "output_type": "execute_result",
          "data": {
            "text/plain": [
              "2.999194847020934"
            ]
          },
          "metadata": {},
          "execution_count": 414
        }
      ]
    },
    {
      "cell_type": "code",
      "source": [
        "print(df_train.duplicated().sum())"
      ],
      "metadata": {
        "id": "hk3lJfa7hall",
        "colab": {
          "base_uri": "https://localhost:8080/"
        },
        "outputId": "b8318674-f804-4d73-e9e6-f7deba19dba9"
      },
      "execution_count": 415,
      "outputs": [
        {
          "output_type": "stream",
          "name": "stdout",
          "text": [
            "19\n"
          ]
        }
      ]
    },
    {
      "cell_type": "code",
      "source": [
        "print(df_test.duplicated().sum())"
      ],
      "metadata": {
        "colab": {
          "base_uri": "https://localhost:8080/"
        },
        "id": "gC3lsTUnh3wB",
        "outputId": "6dfee5a1-3149-4bd1-91fc-03fb7d31870b"
      },
      "execution_count": 416,
      "outputs": [
        {
          "output_type": "stream",
          "name": "stdout",
          "text": [
            "1\n"
          ]
        }
      ]
    },
    {
      "cell_type": "code",
      "source": [
        "from sklearn.feature_extraction.text import TfidfVectorizer\n",
        "from sklearn.preprocessing import StandardScaler\n",
        "from sklearn.model_selection import train_test_split"
      ],
      "metadata": {
        "id": "FwlAvc1Hka04"
      },
      "execution_count": 417,
      "outputs": []
    },
    {
      "cell_type": "code",
      "source": [
        "X = df.Адресат\n",
        "y = df.Тип_агенства"
      ],
      "metadata": {
        "id": "6l1wI5XznVoa"
      },
      "execution_count": 418,
      "outputs": []
    },
    {
      "cell_type": "code",
      "source": [
        "X_train, X_test, y_train, y_test = train_test_split(X, y, test_size = 0.20)"
      ],
      "metadata": {
        "id": "m64rzAvUn4QS"
      },
      "execution_count": 419,
      "outputs": []
    },
    {
      "cell_type": "code",
      "source": [
        "vectorizer = TfidfVectorizer(max_features = 10000)"
      ],
      "metadata": {
        "id": "oJFVBLlhuFN2"
      },
      "execution_count": 420,
      "outputs": []
    },
    {
      "cell_type": "code",
      "source": [
        "X_train = vectorizer.fit_transform(X_train)\n",
        "X_test = vectorizer.transform(X_test)"
      ],
      "metadata": {
        "id": "yYjuTJLNn_LD"
      },
      "execution_count": 421,
      "outputs": []
    },
    {
      "cell_type": "code",
      "source": [
        "from sklearn.svm import SVC\n",
        "from sklearn.metrics import classification_report, f1_score"
      ],
      "metadata": {
        "id": "y0I2IWi-oBDK"
      },
      "execution_count": 422,
      "outputs": []
    },
    {
      "cell_type": "code",
      "source": [
        "%%time\n",
        "model_SVC = SVC(C = 1, kernel = 'linear')\n",
        "model_SVC.fit(X_train, y_train)\n",
        "res = model_SVC.predict(X_test)"
      ],
      "metadata": {
        "colab": {
          "base_uri": "https://localhost:8080/"
        },
        "id": "O_E4kKNhoDAq",
        "outputId": "70ce94d6-9071-431d-ee65-bf53c49dac64"
      },
      "execution_count": 423,
      "outputs": [
        {
          "output_type": "stream",
          "name": "stdout",
          "text": [
            "CPU times: user 281 ms, sys: 7.7 ms, total: 289 ms\n",
            "Wall time: 289 ms\n"
          ]
        }
      ]
    },
    {
      "cell_type": "code",
      "source": [
        "f1_svm = f1_score(y_test, res, average='macro')\n",
        "f1_svm"
      ],
      "metadata": {
        "colab": {
          "base_uri": "https://localhost:8080/"
        },
        "id": "XB_dK3sPoE1j",
        "outputId": "2f1b35a2-a4e4-43f4-c551-5eca5c24e315"
      },
      "execution_count": 424,
      "outputs": [
        {
          "output_type": "execute_result",
          "data": {
            "text/plain": [
              "0.5693748865904554"
            ]
          },
          "metadata": {},
          "execution_count": 424
        }
      ]
    },
    {
      "cell_type": "code",
      "source": [
        "print(classification_report(y_test, res))"
      ],
      "metadata": {
        "colab": {
          "base_uri": "https://localhost:8080/"
        },
        "id": "KtUZ_Z2woGyk",
        "outputId": "42f9b6f0-50b7-473f-aa53-5b056346fa3d"
      },
      "execution_count": 425,
      "outputs": [
        {
          "output_type": "stream",
          "name": "stdout",
          "text": [
            "              precision    recall  f1-score   support\n",
            "\n",
            "           0       0.68      0.75      0.71       627\n",
            "           1       0.48      0.39      0.43       367\n",
            "\n",
            "    accuracy                           0.62       994\n",
            "   macro avg       0.58      0.57      0.57       994\n",
            "weighted avg       0.60      0.62      0.61       994\n",
            "\n"
          ]
        }
      ]
    },
    {
      "cell_type": "markdown",
      "source": [
        "Я выбрал данную модель, потому что она внатуре лучшая, выдала лучшие результаты и показала высокую точность классификации по сравнению с другими, проверяемые мною."
      ],
      "metadata": {
        "id": "tyOdKSNH-OBc"
      }
    },
    {
      "cell_type": "markdown",
      "source": [
        "## **2.2 Визуализация зависимостей данных**"
      ],
      "metadata": {
        "id": "7pWAe0Vdy_vg"
      }
    },
    {
      "cell_type": "code",
      "source": [
        "#Доля отправки писем каждой категории агенства\n",
        "type_agenstv = df.Тип_агенства.value_counts().reset_index().values\n",
        "data = [i[1] for i in type_agenstv]\n",
        "agents = [\"Гос организации\",\"Стороние лица\"]\n",
        "\n",
        "dictionary = dict(zip(agents, data))\n",
        "info = pd.DataFrame(dictionary, index=[\"Доля отправленных писем первым лицам\"])\n",
        "fig, ax = plt.subplots()\n",
        "info.plot(kind='bar', ax=ax, rot=0)"
      ],
      "metadata": {
        "colab": {
          "base_uri": "https://localhost:8080/",
          "height": 283
        },
        "id": "_XMpTUYpxnHm",
        "outputId": "83c4ac3c-aafe-45ed-929d-1c9a98b768fd"
      },
      "execution_count": 426,
      "outputs": [
        {
          "output_type": "execute_result",
          "data": {
            "text/plain": [
              "<matplotlib.axes._subplots.AxesSubplot at 0x7fbf250fc390>"
            ]
          },
          "metadata": {},
          "execution_count": 426
        },
        {
          "output_type": "display_data",
          "data": {
            "image/png": "[encoded data removed]",
            "text/plain": [
              "<Figure size 432x288 with 1 Axes>"
            ]
          },
          "metadata": {
            "needs_background": "light"
          }
        }
      ]
    },
    {
      "cell_type": "code",
      "source": [
        "#Анализ по количеству пришедших писем\n",
        "ten = df.Агенство.value_counts()[:10]\n",
        "dict_ten = {}\n",
        "for i in ten.reset_index().values:\n",
        "  dict_ten[i[0]] = i[1]\n",
        "info = pd.DataFrame(dict_ten, index=[\"Количество писем от адресатов\"])\n",
        "fig, ax = plt.subplots()\n",
        "info.plot(kind='bar', ax=ax, rot=0)"
      ],
      "metadata": {
        "colab": {
          "base_uri": "https://localhost:8080/",
          "height": 283
        },
        "id": "rsq-z5XDySph",
        "outputId": "544f2cfa-fe25-41fa-89a0-affcd8d2c300"
      },
      "execution_count": 427,
      "outputs": [
        {
          "output_type": "execute_result",
          "data": {
            "text/plain": [
              "<matplotlib.axes._subplots.AxesSubplot at 0x7fbf250ac6d0>"
            ]
          },
          "metadata": {},
          "execution_count": 427
        },
        {
          "output_type": "display_data",
          "data": {
            "image/png": "[encoded data removed]",
            "text/plain": [
              "<Figure size 432x288 with 1 Axes>"
            ]
          },
          "metadata": {
            "needs_background": "light"
          }
        }
      ]
    },
    {
      "cell_type": "code",
      "source": [
        "#Анализ авторов по количеству отправленных писем\n",
        "ten = df.Автор.value_counts()[:10]\n",
        "dict_ten = {}\n",
        "for i in ten.reset_index().values:\n",
        "  dict_ten[i[0]] = i[1]\n",
        "info = pd.DataFrame(dict_ten, index=[\"Авторы по кол-ву отправленных писем\"])\n",
        "fig, ax = plt.subplots()\n",
        "info.plot(kind='bar', ax=ax, rot=0)"
      ],
      "metadata": {
        "colab": {
          "base_uri": "https://localhost:8080/",
          "height": 283
        },
        "id": "-xmLq0dUyb-_",
        "outputId": "d1eb23d8-4a74-4391-d4ee-89ca6ad1ebcb"
      },
      "execution_count": 428,
      "outputs": [
        {
          "output_type": "execute_result",
          "data": {
            "text/plain": [
              "<matplotlib.axes._subplots.AxesSubplot at 0x7fbf2507ba50>"
            ]
          },
          "metadata": {},
          "execution_count": 428
        },
        {
          "output_type": "display_data",
          "data": {
            "image/png": "[encoded data removed]",
            "text/plain": [
              "<Figure size 432x288 with 1 Axes>"
            ]
          },
          "metadata": {
            "needs_background": "light"
          }
        }
      ]
    }
  ]
}