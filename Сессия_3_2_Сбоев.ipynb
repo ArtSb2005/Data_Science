{
  "nbformat": 4,
  "nbformat_minor": 0,
  "metadata": {
    "colab": {
      "name": "WS 2 день сессия 3.ipynb",
      "provenance": [],
      "collapsed_sections": [
        "SZmb7PipHl_W",
        "GbzyY5AYIOrO",
        "WI8OhHHaHfbm",
        "kk0rZtSGHWxn"
      ]
    },
    "kernelspec": {
      "name": "python3",
      "display_name": "Python 3"
    },
    "language_info": {
      "name": "python"
    }
  },
  "cells": [
    {
      "cell_type": "code",
      "execution_count": 650,
      "metadata": {
        "id": "uioOupnEuBOX"
      },
      "outputs": [],
      "source": [
        "import pandas as pd\n",
        "from sklearn.model_selection import train_test_split\n",
        "import matplotlib.pyplot as plt\n",
        "import re\n",
        "import numpy as np"
      ]
    },
    {
      "cell_type": "code",
      "source": [
        "data = pd.read_html(\"/content/Выгрузка 9 апреля.xls\")\n",
        "df = data[1].drop(['№ п/п', '№документа', 'Исх. №Дата', 'Примечание'], axis=1)\n",
        "df.head()"
      ],
      "metadata": {
        "colab": {
          "base_uri": "https://localhost:8080/",
          "height": 206
        },
        "id": "FEBJ2mLAuNt1",
        "outputId": "09f761fe-0f10-4b54-cac7-2fb6c32bda8a"
      },
      "execution_count": 651,
      "outputs": [
        {
          "output_type": "execute_result",
          "data": {
            "text/html": [
              "\n",
              "  <div id=\"df-e8ae6603-8c47-4efc-b79c-5bfb2ef8a4fb\">\n",
              "    <div class=\"colab-df-container\">\n",
              "      <div>\n",
              "<style scoped>\n",
              "    .dataframe tbody tr th:only-of-type {\n",
              "        vertical-align: middle;\n",
              "    }\n",
              "\n",
              "    .dataframe tbody tr th {\n",
              "        vertical-align: top;\n",
              "    }\n",
              "\n",
              "    .dataframe thead th {\n",
              "        text-align: right;\n",
              "    }\n",
              "</style>\n",
              "<table border=\"1\" class=\"dataframe\">\n",
              "  <thead>\n",
              "    <tr style=\"text-align: right;\">\n",
              "      <th></th>\n",
              "      <th>Датарегистрации</th>\n",
              "      <th>Адресат</th>\n",
              "      <th>Автор</th>\n",
              "      <th>Краткоесодержание</th>\n",
              "    </tr>\n",
              "  </thead>\n",
              "  <tbody>\n",
              "    <tr>\n",
              "      <th>0</th>\n",
              "      <td>09.04.2019</td>\n",
              "      <td>Уразов Р.Н.</td>\n",
              "      <td>Антонова С.В. (АО «Интерфакс»)</td>\n",
              "      <td>Вх - О возможности использования сетевого изда...</td>\n",
              "    </tr>\n",
              "    <tr>\n",
              "      <th>1</th>\n",
              "      <td>09.04.2019</td>\n",
              "      <td>Уразов Р.Н.</td>\n",
              "      <td>Картошкин С.А. (Министерство просвещения Росси...</td>\n",
              "      <td>Вх - Об участии в совещании по вопросу доработ...</td>\n",
              "    </tr>\n",
              "    <tr>\n",
              "      <th>2</th>\n",
              "      <td>09.04.2019</td>\n",
              "      <td>Уразов Р.Н.</td>\n",
              "      <td>Цивилев С.Е. (Администрация Кемеровской области)</td>\n",
              "      <td>Вх - О командировании Саликовой К. и Глушко Д....</td>\n",
              "    </tr>\n",
              "    <tr>\n",
              "      <th>3</th>\n",
              "      <td>09.04.2019</td>\n",
              "      <td>Иванюк Л.А.</td>\n",
              "      <td>Волков Г.А. (Министерство транспорта Российско...</td>\n",
              "      <td>Вх - Об участии в Чемпионате мира по профессио...</td>\n",
              "    </tr>\n",
              "    <tr>\n",
              "      <th>4</th>\n",
              "      <td>09.04.2019</td>\n",
              "      <td>Уразов Р.Н.</td>\n",
              "      <td>Атанов И.В. (Ставропольский государственный аг...</td>\n",
              "      <td>Вх - Об участии в церемонии открытия Вузовског...</td>\n",
              "    </tr>\n",
              "  </tbody>\n",
              "</table>\n",
              "</div>\n",
              "      <button class=\"colab-df-convert\" onclick=\"convertToInteractive('df-e8ae6603-8c47-4efc-b79c-5bfb2ef8a4fb')\"\n",
              "              title=\"Convert this dataframe to an interactive table.\"\n",
              "              style=\"display:none;\">\n",
              "        \n",
              "  <svg xmlns=\"http://www.w3.org/2000/svg\" height=\"24px\"viewBox=\"0 0 24 24\"\n",
              "       width=\"24px\">\n",
              "    <path d=\"M0 0h24v24H0V0z\" fill=\"none\"/>\n",
              "    <path d=\"M18.56 5.44l.94 2.06.94-2.06 2.06-.94-2.06-.94-.94-2.06-.94 2.06-2.06.94zm-11 1L8.5 8.5l.94-2.06 2.06-.94-2.06-.94L8.5 2.5l-.94 2.06-2.06.94zm10 10l.94 2.06.94-2.06 2.06-.94-2.06-.94-.94-2.06-.94 2.06-2.06.94z\"/><path d=\"M17.41 7.96l-1.37-1.37c-.4-.4-.92-.59-1.43-.59-.52 0-1.04.2-1.43.59L10.3 9.45l-7.72 7.72c-.78.78-.78 2.05 0 2.83L4 21.41c.39.39.9.59 1.41.59.51 0 1.02-.2 1.41-.59l7.78-7.78 2.81-2.81c.8-.78.8-2.07 0-2.86zM5.41 20L4 18.59l7.72-7.72 1.47 1.35L5.41 20z\"/>\n",
              "  </svg>\n",
              "      </button>\n",
              "      \n",
              "  <style>\n",
              "    .colab-df-container {\n",
              "      display:flex;\n",
              "      flex-wrap:wrap;\n",
              "      gap: 12px;\n",
              "    }\n",
              "\n",
              "    .colab-df-convert {\n",
              "      background-color: #E8F0FE;\n",
              "      border: none;\n",
              "      border-radius: 50%;\n",
              "      cursor: pointer;\n",
              "      display: none;\n",
              "      fill: #1967D2;\n",
              "      height: 32px;\n",
              "      padding: 0 0 0 0;\n",
              "      width: 32px;\n",
              "    }\n",
              "\n",
              "    .colab-df-convert:hover {\n",
              "      background-color: #E2EBFA;\n",
              "      box-shadow: 0px 1px 2px rgba(60, 64, 67, 0.3), 0px 1px 3px 1px rgba(60, 64, 67, 0.15);\n",
              "      fill: #174EA6;\n",
              "    }\n",
              "\n",
              "    [theme=dark] .colab-df-convert {\n",
              "      background-color: #3B4455;\n",
              "      fill: #D2E3FC;\n",
              "    }\n",
              "\n",
              "    [theme=dark] .colab-df-convert:hover {\n",
              "      background-color: #434B5C;\n",
              "      box-shadow: 0px 1px 3px 1px rgba(0, 0, 0, 0.15);\n",
              "      filter: drop-shadow(0px 1px 2px rgba(0, 0, 0, 0.3));\n",
              "      fill: #FFFFFF;\n",
              "    }\n",
              "  </style>\n",
              "\n",
              "      <script>\n",
              "        const buttonEl =\n",
              "          document.querySelector('#df-e8ae6603-8c47-4efc-b79c-5bfb2ef8a4fb button.colab-df-convert');\n",
              "        buttonEl.style.display =\n",
              "          google.colab.kernel.accessAllowed ? 'block' : 'none';\n",
              "\n",
              "        async function convertToInteractive(key) {\n",
              "          const element = document.querySelector('#df-e8ae6603-8c47-4efc-b79c-5bfb2ef8a4fb');\n",
              "          const dataTable =\n",
              "            await google.colab.kernel.invokeFunction('convertToInteractive',\n",
              "                                                     [key], {});\n",
              "          if (!dataTable) return;\n",
              "\n",
              "          const docLinkHtml = 'Like what you see? Visit the ' +\n",
              "            '<a target=\"_blank\" href=https://colab.research.google.com/notebooks/data_table.ipynb>data table notebook</a>'\n",
              "            + ' to learn more about interactive tables.';\n",
              "          element.innerHTML = '';\n",
              "          dataTable['output_type'] = 'display_data';\n",
              "          await google.colab.output.renderOutput(dataTable, element);\n",
              "          const docLink = document.createElement('div');\n",
              "          docLink.innerHTML = docLinkHtml;\n",
              "          element.appendChild(docLink);\n",
              "        }\n",
              "      </script>\n",
              "    </div>\n",
              "  </div>\n",
              "  "
            ],
            "text/plain": [
              "  Датарегистрации  ...                                  Краткоесодержание\n",
              "0      09.04.2019  ...  Вх - О возможности использования сетевого изда...\n",
              "1      09.04.2019  ...  Вх - Об участии в совещании по вопросу доработ...\n",
              "2      09.04.2019  ...  Вх - О командировании Саликовой К. и Глушко Д....\n",
              "3      09.04.2019  ...  Вх - Об участии в Чемпионате мира по профессио...\n",
              "4      09.04.2019  ...  Вх - Об участии в церемонии открытия Вузовског...\n",
              "\n",
              "[5 rows x 4 columns]"
            ]
          },
          "metadata": {},
          "execution_count": 651
        }
      ]
    },
    {
      "cell_type": "code",
      "source": [
        "df.isna().sum()"
      ],
      "metadata": {
        "colab": {
          "base_uri": "https://localhost:8080/"
        },
        "id": "B7pj6YQSuouE",
        "outputId": "9791ff70-0054-44e2-b2f1-08867ff2a7af"
      },
      "execution_count": 652,
      "outputs": [
        {
          "output_type": "execute_result",
          "data": {
            "text/plain": [
              "Датарегистрации      2\n",
              "Адресат              0\n",
              "Автор                0\n",
              "Краткоесодержание    0\n",
              "dtype: int64"
            ]
          },
          "metadata": {},
          "execution_count": 652
        }
      ]
    },
    {
      "cell_type": "code",
      "source": [
        "df = df.fillna(-1)"
      ],
      "metadata": {
        "id": "-9QAuAFAusl8"
      },
      "execution_count": 653,
      "outputs": []
    },
    {
      "cell_type": "code",
      "source": [
        "df.isna().sum()"
      ],
      "metadata": {
        "colab": {
          "base_uri": "https://localhost:8080/"
        },
        "id": "1EZ1srLUuxI0",
        "outputId": "c599657a-e70d-47aa-a50d-dfe3538805c0"
      },
      "execution_count": 654,
      "outputs": [
        {
          "output_type": "execute_result",
          "data": {
            "text/plain": [
              "Датарегистрации      0\n",
              "Адресат              0\n",
              "Автор                0\n",
              "Краткоесодержание    0\n",
              "dtype: int64"
            ]
          },
          "metadata": {},
          "execution_count": 654
        }
      ]
    },
    {
      "cell_type": "code",
      "source": [
        "df['Агенство'] = df.Автор.apply(lambda x: x.split(\"(\")[1].replace(')',''))"
      ],
      "metadata": {
        "id": "bcYqg_atxbB3"
      },
      "execution_count": 655,
      "outputs": []
    },
    {
      "cell_type": "code",
      "source": [
        "df['Автор'] = df.Автор.apply(lambda x: x.split(\"(\")[0] + x.split(\")\")[1])"
      ],
      "metadata": {
        "id": "FH_h5m_Gxdl1"
      },
      "execution_count": 656,
      "outputs": []
    },
    {
      "cell_type": "code",
      "source": [
        "agents = []\n",
        "agents_number_one = ['Министерств', 'Правительств', 'Федеральн', 'Администр']\n",
        "for i in df.Агенство:\n",
        "  br = 0\n",
        "  for t in agents_number_one:\n",
        "    if br:\n",
        "      break\n",
        "    if t in i:\n",
        "      br=1\n",
        "      agents.append(1)\n",
        "  if not(br):\n",
        "    agents.append(0)"
      ],
      "metadata": {
        "id": "-EVQs4MZxgzF"
      },
      "execution_count": 657,
      "outputs": []
    },
    {
      "cell_type": "code",
      "source": [
        "df['Тип_агенства'] = list(agents)\n",
        "df.head()"
      ],
      "metadata": {
        "colab": {
          "base_uri": "https://localhost:8080/",
          "height": 206
        },
        "id": "RTRnM1yQxilA",
        "outputId": "70830cc2-77e4-4b36-a86e-33647816fad5"
      },
      "execution_count": 658,
      "outputs": [
        {
          "output_type": "execute_result",
          "data": {
            "text/html": [
              "\n",
              "  <div id=\"df-e100c2c0-34e6-446c-a915-cb7d07c7db53\">\n",
              "    <div class=\"colab-df-container\">\n",
              "      <div>\n",
              "<style scoped>\n",
              "    .dataframe tbody tr th:only-of-type {\n",
              "        vertical-align: middle;\n",
              "    }\n",
              "\n",
              "    .dataframe tbody tr th {\n",
              "        vertical-align: top;\n",
              "    }\n",
              "\n",
              "    .dataframe thead th {\n",
              "        text-align: right;\n",
              "    }\n",
              "</style>\n",
              "<table border=\"1\" class=\"dataframe\">\n",
              "  <thead>\n",
              "    <tr style=\"text-align: right;\">\n",
              "      <th></th>\n",
              "      <th>Датарегистрации</th>\n",
              "      <th>Адресат</th>\n",
              "      <th>Автор</th>\n",
              "      <th>Краткоесодержание</th>\n",
              "      <th>Агенство</th>\n",
              "      <th>Тип_агенства</th>\n",
              "    </tr>\n",
              "  </thead>\n",
              "  <tbody>\n",
              "    <tr>\n",
              "      <th>0</th>\n",
              "      <td>09.04.2019</td>\n",
              "      <td>Уразов Р.Н.</td>\n",
              "      <td>Антонова С.В.</td>\n",
              "      <td>Вх - О возможности использования сетевого изда...</td>\n",
              "      <td>АО «Интерфакс»</td>\n",
              "      <td>0</td>\n",
              "    </tr>\n",
              "    <tr>\n",
              "      <th>1</th>\n",
              "      <td>09.04.2019</td>\n",
              "      <td>Уразов Р.Н.</td>\n",
              "      <td>Картошкин С.А.</td>\n",
              "      <td>Вх - Об участии в совещании по вопросу доработ...</td>\n",
              "      <td>Министерство просвещения Российской Федерации</td>\n",
              "      <td>1</td>\n",
              "    </tr>\n",
              "    <tr>\n",
              "      <th>2</th>\n",
              "      <td>09.04.2019</td>\n",
              "      <td>Уразов Р.Н.</td>\n",
              "      <td>Цивилев С.Е.</td>\n",
              "      <td>Вх - О командировании Саликовой К. и Глушко Д....</td>\n",
              "      <td>Администрация Кемеровской области</td>\n",
              "      <td>1</td>\n",
              "    </tr>\n",
              "    <tr>\n",
              "      <th>3</th>\n",
              "      <td>09.04.2019</td>\n",
              "      <td>Иванюк Л.А.</td>\n",
              "      <td>Волков Г.А.</td>\n",
              "      <td>Вх - Об участии в Чемпионате мира по профессио...</td>\n",
              "      <td>Министерство транспорта Российской Федерации</td>\n",
              "      <td>1</td>\n",
              "    </tr>\n",
              "    <tr>\n",
              "      <th>4</th>\n",
              "      <td>09.04.2019</td>\n",
              "      <td>Уразов Р.Н.</td>\n",
              "      <td>Атанов И.В.</td>\n",
              "      <td>Вх - Об участии в церемонии открытия Вузовског...</td>\n",
              "      <td>Ставропольский государственный аграрный универ...</td>\n",
              "      <td>0</td>\n",
              "    </tr>\n",
              "  </tbody>\n",
              "</table>\n",
              "</div>\n",
              "      <button class=\"colab-df-convert\" onclick=\"convertToInteractive('df-e100c2c0-34e6-446c-a915-cb7d07c7db53')\"\n",
              "              title=\"Convert this dataframe to an interactive table.\"\n",
              "              style=\"display:none;\">\n",
              "        \n",
              "  <svg xmlns=\"http://www.w3.org/2000/svg\" height=\"24px\"viewBox=\"0 0 24 24\"\n",
              "       width=\"24px\">\n",
              "    <path d=\"M0 0h24v24H0V0z\" fill=\"none\"/>\n",
              "    <path d=\"M18.56 5.44l.94 2.06.94-2.06 2.06-.94-2.06-.94-.94-2.06-.94 2.06-2.06.94zm-11 1L8.5 8.5l.94-2.06 2.06-.94-2.06-.94L8.5 2.5l-.94 2.06-2.06.94zm10 10l.94 2.06.94-2.06 2.06-.94-2.06-.94-.94-2.06-.94 2.06-2.06.94z\"/><path d=\"M17.41 7.96l-1.37-1.37c-.4-.4-.92-.59-1.43-.59-.52 0-1.04.2-1.43.59L10.3 9.45l-7.72 7.72c-.78.78-.78 2.05 0 2.83L4 21.41c.39.39.9.59 1.41.59.51 0 1.02-.2 1.41-.59l7.78-7.78 2.81-2.81c.8-.78.8-2.07 0-2.86zM5.41 20L4 18.59l7.72-7.72 1.47 1.35L5.41 20z\"/>\n",
              "  </svg>\n",
              "      </button>\n",
              "      \n",
              "  <style>\n",
              "    .colab-df-container {\n",
              "      display:flex;\n",
              "      flex-wrap:wrap;\n",
              "      gap: 12px;\n",
              "    }\n",
              "\n",
              "    .colab-df-convert {\n",
              "      background-color: #E8F0FE;\n",
              "      border: none;\n",
              "      border-radius: 50%;\n",
              "      cursor: pointer;\n",
              "      display: none;\n",
              "      fill: #1967D2;\n",
              "      height: 32px;\n",
              "      padding: 0 0 0 0;\n",
              "      width: 32px;\n",
              "    }\n",
              "\n",
              "    .colab-df-convert:hover {\n",
              "      background-color: #E2EBFA;\n",
              "      box-shadow: 0px 1px 2px rgba(60, 64, 67, 0.3), 0px 1px 3px 1px rgba(60, 64, 67, 0.15);\n",
              "      fill: #174EA6;\n",
              "    }\n",
              "\n",
              "    [theme=dark] .colab-df-convert {\n",
              "      background-color: #3B4455;\n",
              "      fill: #D2E3FC;\n",
              "    }\n",
              "\n",
              "    [theme=dark] .colab-df-convert:hover {\n",
              "      background-color: #434B5C;\n",
              "      box-shadow: 0px 1px 3px 1px rgba(0, 0, 0, 0.15);\n",
              "      filter: drop-shadow(0px 1px 2px rgba(0, 0, 0, 0.3));\n",
              "      fill: #FFFFFF;\n",
              "    }\n",
              "  </style>\n",
              "\n",
              "      <script>\n",
              "        const buttonEl =\n",
              "          document.querySelector('#df-e100c2c0-34e6-446c-a915-cb7d07c7db53 button.colab-df-convert');\n",
              "        buttonEl.style.display =\n",
              "          google.colab.kernel.accessAllowed ? 'block' : 'none';\n",
              "\n",
              "        async function convertToInteractive(key) {\n",
              "          const element = document.querySelector('#df-e100c2c0-34e6-446c-a915-cb7d07c7db53');\n",
              "          const dataTable =\n",
              "            await google.colab.kernel.invokeFunction('convertToInteractive',\n",
              "                                                     [key], {});\n",
              "          if (!dataTable) return;\n",
              "\n",
              "          const docLinkHtml = 'Like what you see? Visit the ' +\n",
              "            '<a target=\"_blank\" href=https://colab.research.google.com/notebooks/data_table.ipynb>data table notebook</a>'\n",
              "            + ' to learn more about interactive tables.';\n",
              "          element.innerHTML = '';\n",
              "          dataTable['output_type'] = 'display_data';\n",
              "          await google.colab.output.renderOutput(dataTable, element);\n",
              "          const docLink = document.createElement('div');\n",
              "          docLink.innerHTML = docLinkHtml;\n",
              "          element.appendChild(docLink);\n",
              "        }\n",
              "      </script>\n",
              "    </div>\n",
              "  </div>\n",
              "  "
            ],
            "text/plain": [
              "  Датарегистрации  ... Тип_агенства\n",
              "0      09.04.2019  ...            0\n",
              "1      09.04.2019  ...            1\n",
              "2      09.04.2019  ...            1\n",
              "3      09.04.2019  ...            1\n",
              "4      09.04.2019  ...            0\n",
              "\n",
              "[5 rows x 6 columns]"
            ]
          },
          "metadata": {},
          "execution_count": 658
        }
      ]
    },
    {
      "cell_type": "code",
      "source": [
        "!pip install catboost\n",
        "!pip install lightgbm\n",
        "!pip install -q pydot"
      ],
      "metadata": {
        "colab": {
          "base_uri": "https://localhost:8080/"
        },
        "id": "DcM02uGgICG_",
        "outputId": "1078139b-e3fa-494a-f89f-700cc1ada0c7"
      },
      "execution_count": 659,
      "outputs": [
        {
          "output_type": "stream",
          "name": "stdout",
          "text": [
            "Requirement already satisfied: catboost in /usr/local/lib/python3.7/dist-packages (1.0.4)\n",
            "Requirement already satisfied: six in /usr/local/lib/python3.7/dist-packages (from catboost) (1.15.0)\n",
            "Requirement already satisfied: numpy>=1.16.0 in /usr/local/lib/python3.7/dist-packages (from catboost) (1.21.5)\n",
            "Requirement already satisfied: scipy in /usr/local/lib/python3.7/dist-packages (from catboost) (1.4.1)\n",
            "Requirement already satisfied: graphviz in /usr/local/lib/python3.7/dist-packages (from catboost) (0.10.1)\n",
            "Requirement already satisfied: plotly in /usr/local/lib/python3.7/dist-packages (from catboost) (5.5.0)\n",
            "Requirement already satisfied: matplotlib in /usr/local/lib/python3.7/dist-packages (from catboost) (3.2.2)\n",
            "Requirement already satisfied: pandas>=0.24.0 in /usr/local/lib/python3.7/dist-packages (from catboost) (1.3.5)\n",
            "Requirement already satisfied: python-dateutil>=2.7.3 in /usr/local/lib/python3.7/dist-packages (from pandas>=0.24.0->catboost) (2.8.2)\n",
            "Requirement already satisfied: pytz>=2017.3 in /usr/local/lib/python3.7/dist-packages (from pandas>=0.24.0->catboost) (2018.9)\n",
            "Requirement already satisfied: cycler>=0.10 in /usr/local/lib/python3.7/dist-packages (from matplotlib->catboost) (0.11.0)\n",
            "Requirement already satisfied: kiwisolver>=1.0.1 in /usr/local/lib/python3.7/dist-packages (from matplotlib->catboost) (1.3.2)\n",
            "Requirement already satisfied: pyparsing!=2.0.4,!=2.1.2,!=2.1.6,>=2.0.1 in /usr/local/lib/python3.7/dist-packages (from matplotlib->catboost) (3.0.7)\n",
            "Requirement already satisfied: tenacity>=6.2.0 in /usr/local/lib/python3.7/dist-packages (from plotly->catboost) (8.0.1)\n",
            "Requirement already satisfied: lightgbm in /usr/local/lib/python3.7/dist-packages (2.2.3)\n",
            "Requirement already satisfied: scipy in /usr/local/lib/python3.7/dist-packages (from lightgbm) (1.4.1)\n",
            "Requirement already satisfied: scikit-learn in /usr/local/lib/python3.7/dist-packages (from lightgbm) (1.0.2)\n",
            "Requirement already satisfied: numpy in /usr/local/lib/python3.7/dist-packages (from lightgbm) (1.21.5)\n",
            "Requirement already satisfied: joblib>=0.11 in /usr/local/lib/python3.7/dist-packages (from scikit-learn->lightgbm) (1.1.0)\n",
            "Requirement already satisfied: threadpoolctl>=2.0.0 in /usr/local/lib/python3.7/dist-packages (from scikit-learn->lightgbm) (3.1.0)\n"
          ]
        }
      ]
    },
    {
      "cell_type": "code",
      "source": [
        "from catboost import CatBoostClassifier\n",
        "from xgboost import XGBClassifier, plot_importance, plot_tree\n",
        "from sklearn.ensemble import RandomForestClassifier\n",
        "from sklearn.model_selection import GridSearchCV\n",
        "from sklearn.metrics import classification_report\n",
        "from sklearn.metrics import mean_absolute_error\n",
        "from sklearn.feature_extraction.text import TfidfVectorizer\n",
        "from sklearn.preprocessing import StandardScaler"
      ],
      "metadata": {
        "id": "yhV-B-Tcu0-D"
      },
      "execution_count": 660,
      "outputs": []
    },
    {
      "cell_type": "code",
      "source": [
        "x = df.Агенство\n",
        "y = df.Адресат"
      ],
      "metadata": {
        "id": "fVM6vigF0Mwu"
      },
      "execution_count": 720,
      "outputs": []
    },
    {
      "cell_type": "code",
      "source": [
        "x_train, x_test, y_train, y_test = train_test_split(x, y, test_size = 0.33, random_state = 1000)"
      ],
      "metadata": {
        "id": "1L91jRPy2rBC"
      },
      "execution_count": 721,
      "outputs": []
    },
    {
      "cell_type": "code",
      "source": [
        "vectorizer = TfidfVectorizer(max_features = 100)"
      ],
      "metadata": {
        "id": "_naKtzjr0dUw"
      },
      "execution_count": 722,
      "outputs": []
    },
    {
      "cell_type": "code",
      "source": [
        "X_train = vectorizer.fit_transform(x_train)\n",
        "X_test = vectorizer.transform(x_test)"
      ],
      "metadata": {
        "id": "oMvXQj8OvMW1"
      },
      "execution_count": 723,
      "outputs": []
    },
    {
      "cell_type": "code",
      "source": [
        "from sklearn.svm import SVC\n",
        "from sklearn.metrics import classification_report, f1_score"
      ],
      "metadata": {
        "id": "TK8mhiarvN8r"
      },
      "execution_count": 714,
      "outputs": []
    },
    {
      "cell_type": "code",
      "source": [
        "%%time\n",
        "model_SVC = SVC(C = 1, kernel = 'linear')\n",
        "model_SVC.fit(X_train, y_train)\n",
        "res = model_SVC.predict(X_test)"
      ],
      "metadata": {
        "colab": {
          "base_uri": "https://localhost:8080/"
        },
        "id": "qEMtK7Pf1Lq5",
        "outputId": "bad437c5-e73b-48a1-a9c5-085932ab6d32"
      },
      "execution_count": 737,
      "outputs": [
        {
          "output_type": "stream",
          "name": "stdout",
          "text": [
            "CPU times: user 1.53 s, sys: 7.87 ms, total: 1.53 s\n",
            "Wall time: 1.54 s\n"
          ]
        }
      ]
    },
    {
      "cell_type": "markdown",
      "source": [
        "Точность - 0.02 Плохой резульат"
      ],
      "metadata": {
        "id": "xBOKGKYrV5wM"
      }
    },
    {
      "cell_type": "code",
      "source": [
        "f1_svm = f1_score(y_test, res, average='macro')\n",
        "f1_svm"
      ],
      "metadata": {
        "colab": {
          "base_uri": "https://localhost:8080/"
        },
        "id": "amoiDGXZ1M8q",
        "outputId": "91205989-46b1-4086-d9de-964bba536421"
      },
      "execution_count": 738,
      "outputs": [
        {
          "output_type": "execute_result",
          "data": {
            "text/plain": [
              "0.029414227977803676"
            ]
          },
          "metadata": {},
          "execution_count": 738
        }
      ]
    },
    {
      "cell_type": "code",
      "source": [
        "print(classification_report(y_test, res))"
      ],
      "metadata": {
        "colab": {
          "base_uri": "https://localhost:8080/"
        },
        "id": "WFDQz2wG1OZY",
        "outputId": "e9ef39aa-f6ba-424f-d9fd-aae769c543d1"
      },
      "execution_count": 739,
      "outputs": [
        {
          "output_type": "stream",
          "name": "stdout",
          "text": [
            "                                                                                                                                                                                                                                                                                                                                                                                                                                                                                 precision    recall  f1-score   support\n",
            "\n",
            "                                                                                                                                                                                                                                                                                                                                                                                                                                                                  Абдуллин А.М.       0.00      0.00      0.00         1\n",
            "                                                                                                                                                                                                                                                                                                                                                                                                                                                                    Алимов А.А.       0.00      0.00      0.00         5\n",
            "                                                                                                                                                                                                                                                                                                                                                                                                                                                                   Антонов Ю.В.       0.00      0.00      0.00         6\n",
            "                                                                                                                                                                                                                                                                                                                                                                                                                                                               Безносикова Н.А.       0.00      0.00      0.00         1\n",
            "                                                                                                                                                                                                                                                                                                                                                                                                                                                                 Вишнякова О.Б.       0.00      0.00      0.00         1\n",
            "Гафуров И.Р.Каримов А.А.Абдулганиев Ф.С.Леонов В.А.Зарипова Э.А.Фаттахов Д.И.Мухаметшин Р.М.Едиханов Р.А.Газизов А.Х.Агеев Ш.Р.Уразов Р.Н.Шагимарданов А.РГараев З.Ф.Юсупов И.У.Гатауллин А.Э.Кабиров Р.Х.Валеев Д.Р.Закиров А.Ф.Шакиров Р.А.Галиуллин Р.Ф.Абдулгалеев З.Т.Салихова Г.Х.Рахимуллина А.Р.Хайрутдинов Т.И.Тазетдинова Л.А.Гатаулин Т.М.Гилязов М.И.Ахметшин Р.К.Гильфанов Х.М.Валиуллин Р.Н.Шаяхметов Р.К.Зинатуллин Р.Р.Бадретдинов Б.М.Усманов А.М.Аблязов К.А.       0.00      0.00      0.00         1\n",
            "                                                                                                                                        Гафуров И.Р.Лаврентьев А.П.Агеев Ш.Р.Афанасьев А.И.Бариев М.М.Залялова А.Г.Вахитов Р.Р.Гайнутдинов А.Р.Гаязов З.Ф.Гильмутдинов И.И.Хамитов Д.Г.Когогин С.А.Афанасьев М.П.Мавликов А.В.Мифтахов Р.З.Маганов Н.У.Павлова О.И.Патяшина М.А.Пустовгаров Ю.Л.Рахимов И.С.Уразов Р.Н.Фардиев И.Ш.Шигабутдинов А.К.Губайдуллин Э.С.Якубов Ю.Д.       0.00      0.00      0.00         1\n",
            "                                                                                                                                                                                                                                                                                                                                                                                                                                                                    Глушко Д.Е.       0.53      0.84      0.65       511\n",
            "                                                                                                                                                                                                                                                                                                                                                                                                                                                      Глушко Д.Е.Досканова А.В.       0.00      0.00      0.00         1\n",
            "                                                                                                                                                                                                                                                                                                                                                                                                                                                         Глушко Д.Е.Иванюк Л.А.       0.00      0.00      0.00         1\n",
            "                                                                                                                                                                                                                                                                                                                                                                                                                                                    Глушко Д.Е.Кожевникова Е.И.       0.00      0.00      0.00         1\n",
            "                                                                                                                                                                                                                                                                                                                                                                                                                                                         Глушко Д.Е.Лысова С.И.       0.00      0.00      0.00         1\n",
            "                                                                                                                                                                                                                                                                                                                                                                                                                                                    Глушко Д.Е.Недоспасова О.В.       0.00      0.00      0.00         2\n",
            "                                                                                                                                                                                                                                                                                                                                                                                                                                                          Глушко Д.Е.Никул Е.В.       0.00      0.00      0.00         1\n",
            "                                                                                                                                                                                                                                                                                                                                                                                                                                                       Глушко Д.Е.Саликова К.В.       0.00      0.00      0.00         2\n",
            "                                                                                                                                                                                                                                                                                                                                                                                                                                                       Глушко Д.Е.Тымчиков А.Ю.       0.00      0.00      0.00        14\n",
            "                                                                                                                                                                                                                                                                                                                                                                                                                                                                   Гонтарь М.А.       0.00      0.00      0.00        27\n",
            "                                                                                                                                                                                                                                                                                                                                                                                                                                                                  Дмитриев М.Г.       0.00      0.00      0.00         1\n",
            "                                                                                                                                                                                                                                                                                                                                                                                                                                                                   Домаева О.Ю.       0.00      0.00      0.00         1\n",
            "                                                                                                                                                                                                                                                                                                                                                                                                                                                                 Досканова А.В.       0.00      0.00      0.00         4\n",
            "                                                                                                                                                                                                                                                                                                                                                                                                                                                                  Дубицкая Ю.А.       0.00      0.00      0.00         2\n",
            "                                                                                                                                                                                                                                                                                                                                                                                                                                                                Желковский И.И.       0.00      0.00      0.00         1\n",
            "                                                                                                                                                                                                                                                                                                                                                                                                                                                                 Зайчикова И.А.       0.00      0.00      0.00         1\n",
            "                                                                                                                                                                                                                                                                                                                                                                                                                                                                 Зензинова К.В.       0.00      0.00      0.00         3\n",
            "                                                                                                                                                                                                                                                                                                                                                                                                                                                                    Иванюк Л.А.       0.00      0.00      0.00         6\n",
            "                                                                                                                                                                                                                                                                                                                                                                                                                                                       Иванюк Л.А.Тымчиков А.Ю.       0.00      0.00      0.00         1\n",
            "                                                                                                                                                                                                                                                                                                                                                                                                                                                               Кожевникова Е.И.       0.00      0.00      0.00         3\n",
            "                                                                                                                                                                                                                                                                                                                                                                                                                                                               Крайчинская С.Б.       0.06      0.01      0.02       103\n",
            "                                                                                                                                                                                                                                                                                                                                                                                                                                                                      Крук С.В.       0.00      0.00      0.00         3\n",
            "                                                                                                                                                                                                                                                                                                                                                                                                                                                                   Куколев С.В.       0.25      0.03      0.05        36\n",
            "                                                                                                                                                                                                                                                                                                                                                                                                                                                       Куколев С.В.Судаков К.Ю.       0.00      0.00      0.00         6\n",
            "                                                                                                                                                                                                                                                                                                                                                                                                                                                                    Лисова Т.А.       0.00      0.00      0.00         1\n",
            "                                                                                                                                                                                                                                                                                                                                                                                                                                                                 Лошкарева Е.П.       0.00      0.00      0.00         3\n",
            "                                                                                                                                                                                                                                                                                                                                                                                                                                                                    Лысова С.И.       0.41      0.77      0.54        78\n",
            "                                                                                                                                                                                                                                                                                                                                                                                                                                          Лысова С.И.Саликова К.В.Тымчиков А.Ю.       0.00      0.00      0.00         1\n",
            "                                                                                                                                                                                                                                                                                                                                                                                                                                                        Лысова С.И.Судаков К.Ю.       0.00      0.00      0.00         1\n",
            "                                                                                                                                                                                                                                                                                                                                                                                                                                                       Лысова С.И.Тымчиков А.Ю.       0.00      0.00      0.00         2\n",
            "                                                                                                                                                                                                                                                                                                                                                                                                                                          Лысова С.И.Тымчиков А.Ю.Саликова К.В.       0.00      0.00      0.00         1\n",
            "                                                                                                                                                                                                                                                                                                                                                                                                                                                                  Мартынюк Е.Д.       0.00      0.00      0.00         1\n",
            "                                                                                                                                                                                                                                                                                                                                                                                                                                                                  Миронова С.В.       0.00      0.00      0.00        10\n",
            "                                                                                                                                                                                                                                                                                                                                                                                                                                                                  Митькина А.Н.       0.00      0.00      0.00         3\n",
            "                                                                                                                                                                                                                                                                                                                                                                                                                                                       Митькина А.Н.Иванюк Л.А.       0.00      0.00      0.00         1\n",
            "                                                                                                                                                                                                                                                                                                                                                                                                                                                     Митькина А.Н.Миронова С.В.       0.00      0.00      0.00         1\n",
            "                                                                                                                                                                                                                                                                                                                                                                                                                                                                   Митяева И.В.       0.00      0.00      0.00        29\n",
            "                                                                                                                                                                                                                                                                                                                                                                                                                                                   Митяева И.В.Крайчинская С.Б.       0.00      0.00      0.00         1\n",
            "                                                                                                                                                                                                                                                                                                                                                                                                                                                              Мухаметзянов Д.Ф.       0.00      0.00      0.00        11\n",
            "                                                                                                                                                                                                                                                                                                                                                                                                                                              Мухаметзянов Д.Ф.Крайчинская С.Б.       0.00      0.00      0.00         1\n",
            "                                                                                                                                                                                                                                                                                                                                                                                                                                                   Мухаметзянов Д.Ф.Лысова С.И.       0.00      0.00      0.00         1\n",
            "                                                                                                                                                                                                                                                                                                                                                                                                                                                               Недоспасова О.В.       0.00      0.00      0.00        19\n",
            "                                                                                                                                                                                                                                                                                                                                                                                                                                              Недоспасова О.В.Мухаметзянов Д.Ф.       0.00      0.00      0.00         1\n",
            "                                                                                                                                                                                                                                                                                                                                                                                                                                               Недоспасова О.В.Хворостяная И.В.       0.00      0.00      0.00         1\n",
            "                                                                                                                                                                                                                                                                                                                                                                                                                                                                Нерезькова И.В.       0.00      0.00      0.00         1\n",
            "                                                                                                                                                                                                                                                                                                                                                                                                                                                                     Никул Е.В.       0.25      0.33      0.28        42\n",
            "                                                                                                                                                                                                                                                                                                                                                                                                                                                         Никул Е.В.Гонтарь М.А.       0.00      0.00      0.00         1\n",
            "                                                                                                                                                                                                                                                                                                                                                                                                                                                        Никул Е.В.Кононова Н.А.       0.00      0.00      0.00         4\n",
            "                                                                                                                                                                                                                                                                                                                                                                                                                                        Никул Е.В.Мухаметзянов Д.Ф.Митяева И.В.       0.00      0.00      0.00         1\n",
            "                                                                                                                                                                                                                                                                                                                                                                                                                                                        Никул Е.В.Тымчиков А.Ю.       0.00      0.00      0.00         1\n",
            "                                                                                                                                                                                                                                                                                                                                                                                                                                                 Огородова Л.М.Крайчинская С.Б.       0.00      0.00      0.00         1\n",
            "                                                                                                                                                                                                                                                                                                                              Песошин А.В.Леонов В.А.Бурганов Р.Т.Каримов А.А.Сафаров А.А.Савельев И.Л.Нафигин А.И.Глухова Л.Ю.Сабирова Р.Н.Лихачев А.Е.Уразов Р.Н.Кадыров А.Р.       0.00      0.00      0.00         1\n",
            "                                                                                                                                                                                                                                                                                                                                                                                                                                                                    Плюмпа М.А.       0.00      0.00      0.00         1\n",
            "                                                                                                                                                                                                                                                                                                                                                                                                                                                                    Попова Я.Д.       0.00      0.00      0.00         1\n",
            "                                                                                                                                                                                                                                                                                                                                                                                                                                                                  Саликова К.В.       0.00      0.00      0.00        27\n",
            "                                                                                                                                                                                                                                                                                                                                                                                                                                                     Саликова К.В.Тымчиков А.Ю.       0.00      0.00      0.00         1\n",
            "                                                                                                                                                                                                                                                                                                                                                                                                                                                                  Селукова А.И.       0.00      0.00      0.00         2\n",
            "                                                                                                                                                                                                                                                                                                                                                                                                                                                                Серафимова О.В.       0.00      0.00      0.00         2\n",
            "                                                                                                                                                                                                                                                                                                                                                                                                                                                                  Смирнова Л.В.       0.00      0.00      0.00         2\n",
            "                                                                                                                                                                                                                                                                                                                                                                                                                                                                Степаненко Е.А.       0.00      0.00      0.00         1\n",
            "                                                                                                                                                                                                                                                                                                                                                                                                                                                                   Судаков К.Ю.       0.00      0.00      0.00         4\n",
            "                                                                                                                                                                                                                                                                                                                                                                                                                                                                  Сумакова Е.Д.       0.00      0.00      0.00         1\n",
            "                                                                                                                                                                                                                                                                                                                                                                                                                                                                 Суперекин И.Ю.       0.00      0.00      0.00        16\n",
            "                                                                                                                                                                                                                                                                                                                                                                                                                                                                 Тарасенко М.Е.       0.00      0.00      0.00         1\n",
            "                                                                                                                                                                                                                                                                                                                                                                                                                                                                  Трофимов А.В.       0.00      0.00      0.00         1\n",
            "                                                                                                                                                                                                                                                                                                                                                                                                                                                                  Тымчиков А.Ю.       0.33      0.03      0.05        75\n",
            "                                                                                                                                                                                                                                                                                                                                                                                                                                             Тымчиков А.Ю.Акимов П.М.Базер О.Э.       0.00      0.00      0.00         1\n",
            "                                                                                                                                                                                                                                                                                                                                                                                                                                                       Тымчиков А.Ю.Глушко Д.Е.       0.00      0.00      0.00         4\n",
            "                                                                                                                                                                                                                                                                                                                                                                                                                                                        Тымчиков А.Ю.Никул Е.В.       0.00      0.00      0.00         1\n",
            "                                                                                                                                                                                                                                                                                                                                                                                                                                          Тымчиков А.Ю.Никул Е.В.Досканова А.В.       0.00      0.00      0.00         2\n",
            "                                                                                                                                                                                                                                                                                                                                                                                                                                           Тымчиков А.Ю.Никул Е.В.Саликова К.В.       0.00      0.00      0.00         1\n",
            "                                                                                                                                                                                                                                                                                                                                                                                                                                          Тымчиков А.Ю.Трофимов А.В.Акимов П.М.       0.00      0.00      0.00         1\n",
            "                                                                                                                                                                                                                                                                                                                                                                                                                                                                    Уразов Р.Н.       0.64      0.72      0.68       482\n",
            "                                                                                                                                                                                                                                                                                                                                                                                                                                                         Уразов Р.Н.Глушко Д.Е.       0.00      0.00      0.00         2\n",
            "                                                                                                                                                                                                                                                                                                                                                                                                                                                       Уразов Р.Н.Тымчиков А.Ю.       0.00      0.00      0.00         1\n",
            "                                                                                                                                                                                                                                                                                                                                                                                                                                         Уразов Р.Н.Тымчиков А.Ю.Колусенко У.Д.       0.00      0.00      0.00         1\n",
            "                                                                                                                                                                                                                                                                                                                                                                                                                                                                   Уфимцев Д.А.       0.00      0.00      0.00        14\n",
            "                                                                                                                                                                                                                                                                                                                                                                                                                                                                  Федосеев А.И.       0.00      0.00      0.00         3\n",
            "                                                                                                                                                                                                                                                                                                                                                                                                                                                               Хворостяная И.В.       0.22      0.46      0.30        24\n",
            "                                                                                                                                                                                                                                                                                                                                                                                                                                                                     Чуева А.В.       0.00      0.00      0.00         1\n",
            "\n",
            "                                                                                                                                                                                                                                                                                                                                                                                                                                                                       accuracy                           0.53      1640\n",
            "                                                                                                                                                                                                                                                                                                                                                                                                                                                                      macro avg       0.03      0.04      0.03      1640\n",
            "                                                                                                                                                                                                                                                                                                                                                                                                                                                                   weighted avg       0.41      0.53      0.44      1640\n",
            "\n"
          ]
        },
        {
          "output_type": "stream",
          "name": "stderr",
          "text": [
            "/usr/local/lib/python3.7/dist-packages/sklearn/metrics/_classification.py:1318: UndefinedMetricWarning: Precision and F-score are ill-defined and being set to 0.0 in labels with no predicted samples. Use `zero_division` parameter to control this behavior.\n",
            "  _warn_prf(average, modifier, msg_start, len(result))\n",
            "/usr/local/lib/python3.7/dist-packages/sklearn/metrics/_classification.py:1318: UndefinedMetricWarning: Precision and F-score are ill-defined and being set to 0.0 in labels with no predicted samples. Use `zero_division` parameter to control this behavior.\n",
            "  _warn_prf(average, modifier, msg_start, len(result))\n",
            "/usr/local/lib/python3.7/dist-packages/sklearn/metrics/_classification.py:1318: UndefinedMetricWarning: Precision and F-score are ill-defined and being set to 0.0 in labels with no predicted samples. Use `zero_division` parameter to control this behavior.\n",
            "  _warn_prf(average, modifier, msg_start, len(result))\n"
          ]
        }
      ]
    },
    {
      "cell_type": "markdown",
      "source": [
        "## **RandomForestClassifier**"
      ],
      "metadata": {
        "id": "SZmb7PipHl_W"
      }
    },
    {
      "cell_type": "code",
      "source": [
        "from sklearn.ensemble import RandomForestClassifier\n",
        "from sklearn.metrics import recall_score"
      ],
      "metadata": {
        "id": "cAyGDz0f_KZE"
      },
      "execution_count": 670,
      "outputs": []
    },
    {
      "cell_type": "markdown",
      "source": [
        "Точность 0.63 Лучший результат"
      ],
      "metadata": {
        "id": "b00yAJ8fWF17"
      }
    },
    {
      "cell_type": "code",
      "source": [
        "rfc = RandomForestClassifier()\n",
        "rfc.fit(X_train, y_train)\n",
        "display(rfc.score(X_train, y_train))"
      ],
      "metadata": {
        "colab": {
          "base_uri": "https://localhost:8080/",
          "height": 34
        },
        "id": "62mEQpEKMz5Z",
        "outputId": "95acc69f-1b94-4f1e-f0a7-1fc166b4328c"
      },
      "execution_count": 758,
      "outputs": [
        {
          "output_type": "display_data",
          "data": {
            "text/plain": [
              "0.6369101292455666"
            ]
          },
          "metadata": {}
        }
      ]
    },
    {
      "cell_type": "code",
      "source": [
        "rf_cls = RandomForestClassifier(n_estimators = 100)"
      ],
      "metadata": {
        "id": "9P42yoMC_JvL"
      },
      "execution_count": 741,
      "outputs": []
    },
    {
      "cell_type": "code",
      "source": [
        "%%time\n",
        "rf_cls.fit(X_train, y_train)"
      ],
      "metadata": {
        "colab": {
          "base_uri": "https://localhost:8080/"
        },
        "id": "sSOK1kh8_OMk",
        "outputId": "3d827c0c-814e-417c-c93e-6ee8d7260512"
      },
      "execution_count": 742,
      "outputs": [
        {
          "output_type": "stream",
          "name": "stdout",
          "text": [
            "CPU times: user 1.17 s, sys: 47.1 ms, total: 1.22 s\n",
            "Wall time: 1.22 s\n"
          ]
        },
        {
          "output_type": "execute_result",
          "data": {
            "text/plain": [
              "RandomForestClassifier()"
            ]
          },
          "metadata": {},
          "execution_count": 742
        }
      ]
    },
    {
      "cell_type": "code",
      "source": [
        "y_pred = rf_cls.predict(X_test)"
      ],
      "metadata": {
        "id": "2IrFbsbcSUZ4"
      },
      "execution_count": 743,
      "outputs": []
    },
    {
      "cell_type": "code",
      "source": [
        "print(classification_report(y_test, y_pred))"
      ],
      "metadata": {
        "colab": {
          "base_uri": "https://localhost:8080/"
        },
        "id": "YjVrwWc9_Qba",
        "outputId": "0b780b2e-3ba8-411d-c8ec-e78df4702b1a"
      },
      "execution_count": 744,
      "outputs": [
        {
          "output_type": "stream",
          "name": "stdout",
          "text": [
            "                                                                                                                                                                                                                                                                                                                                                                                                                                                                                 precision    recall  f1-score   support\n",
            "\n",
            "                                                                                                                                                                                                                                                                                                                                                                                                                                                                  Абдуллин А.М.       0.00      0.00      0.00         1\n",
            "                                                                                                                                                                                                                                                                                                                                                                                                                                                                    Алимов А.А.       0.00      0.00      0.00         5\n",
            "                                                                                                                                                                                                                                                                                                                                                                                                                                                                   Антонов Ю.В.       0.00      0.00      0.00         6\n",
            "                                                                                                                                                                                                                                                                                                                                                                                                                                                               Безносикова Н.А.       0.00      0.00      0.00         1\n",
            "                                                                                                                                                                                                                                                                                                                                                                                                                                                                 Вишнякова О.Б.       0.00      0.00      0.00         1\n",
            "Гафуров И.Р.Каримов А.А.Абдулганиев Ф.С.Леонов В.А.Зарипова Э.А.Фаттахов Д.И.Мухаметшин Р.М.Едиханов Р.А.Газизов А.Х.Агеев Ш.Р.Уразов Р.Н.Шагимарданов А.РГараев З.Ф.Юсупов И.У.Гатауллин А.Э.Кабиров Р.Х.Валеев Д.Р.Закиров А.Ф.Шакиров Р.А.Галиуллин Р.Ф.Абдулгалеев З.Т.Салихова Г.Х.Рахимуллина А.Р.Хайрутдинов Т.И.Тазетдинова Л.А.Гатаулин Т.М.Гилязов М.И.Ахметшин Р.К.Гильфанов Х.М.Валиуллин Р.Н.Шаяхметов Р.К.Зинатуллин Р.Р.Бадретдинов Б.М.Усманов А.М.Аблязов К.А.       0.00      0.00      0.00         1\n",
            "                                                                                                                                        Гафуров И.Р.Лаврентьев А.П.Агеев Ш.Р.Афанасьев А.И.Бариев М.М.Залялова А.Г.Вахитов Р.Р.Гайнутдинов А.Р.Гаязов З.Ф.Гильмутдинов И.И.Хамитов Д.Г.Когогин С.А.Афанасьев М.П.Мавликов А.В.Мифтахов Р.З.Маганов Н.У.Павлова О.И.Патяшина М.А.Пустовгаров Ю.Л.Рахимов И.С.Уразов Р.Н.Фардиев И.Ш.Шигабутдинов А.К.Губайдуллин Э.С.Якубов Ю.Д.       0.00      0.00      0.00         1\n",
            "                                                                                                                                                                                                                                                                                                                                                                                                                                                                    Глушко Д.Е.       0.58      0.80      0.67       511\n",
            "                                                                                                                                                                                                                                                                                                                                                                                                                                                      Глушко Д.Е.Досканова А.В.       0.00      0.00      0.00         1\n",
            "                                                                                                                                                                                                                                                                                                                                                                                                                                                         Глушко Д.Е.Иванюк Л.А.       0.00      0.00      0.00         1\n",
            "                                                                                                                                                                                                                                                                                                                                                                                                                                                    Глушко Д.Е.Кожевникова Е.И.       0.00      0.00      0.00         1\n",
            "                                                                                                                                                                                                                                                                                                                                                                                                                                                         Глушко Д.Е.Лысова С.И.       0.00      0.00      0.00         1\n",
            "                                                                                                                                                                                                                                                                                                                                                                                                                                                    Глушко Д.Е.Недоспасова О.В.       0.50      0.50      0.50         2\n",
            "                                                                                                                                                                                                                                                                                                                                                                                                                                                          Глушко Д.Е.Никул Е.В.       0.00      0.00      0.00         1\n",
            "                                                                                                                                                                                                                                                                                                                                                                                                                                                       Глушко Д.Е.Саликова К.В.       0.00      0.00      0.00         2\n",
            "                                                                                                                                                                                                                                                                                                                                                                                                                                                       Глушко Д.Е.Тымчиков А.Ю.       0.00      0.00      0.00        14\n",
            "                                                                                                                                                                                                                                                                                                                                                                                                                                                                   Гонтарь М.А.       0.00      0.00      0.00        27\n",
            "                                                                                                                                                                                                                                                                                                                                                                                                                                                                  Дмитриев М.Г.       0.00      0.00      0.00         1\n",
            "                                                                                                                                                                                                                                                                                                                                                                                                                                                                   Домаева О.Ю.       0.00      0.00      0.00         1\n",
            "                                                                                                                                                                                                                                                                                                                                                                                                                                                                 Досканова А.В.       0.00      0.00      0.00         4\n",
            "                                                                                                                                                                                                                                                                                                                                                                                                                                                                  Дубицкая Ю.А.       0.00      0.00      0.00         2\n",
            "                                                                                                                                                                                                                                                                                                                                                                                                                                                                Желковский И.И.       0.00      0.00      0.00         1\n",
            "                                                                                                                                                                                                                                                                                                                                                                                                                                                                 Зайчикова И.А.       0.00      0.00      0.00         1\n",
            "                                                                                                                                                                                                                                                                                                                                                                                                                                                                 Зензинова К.В.       0.00      0.00      0.00         3\n",
            "                                                                                                                                                                                                                                                                                                                                                                                                                                                                    Иванюк Л.А.       0.50      0.17      0.25         6\n",
            "                                                                                                                                                                                                                                                                                                                                                                                                                                                       Иванюк Л.А.Тымчиков А.Ю.       0.00      0.00      0.00         1\n",
            "                                                                                                                                                                                                                                                                                                                                                                                                                                                               Кожевникова Е.И.       0.00      0.00      0.00         3\n",
            "                                                                                                                                                                                                                                                                                                                                                                                                                                                               Крайчинская С.Б.       0.34      0.18      0.24       103\n",
            "                                                                                                                                                                                                                                                                                                                                                                                                                                                                      Крук С.В.       0.00      0.00      0.00         3\n",
            "                                                                                                                                                                                                                                                                                                                                                                                                                                                                   Куколев С.В.       0.24      0.17      0.20        36\n",
            "                                                                                                                                                                                                                                                                                                                                                                                                                                                       Куколев С.В.Судаков К.Ю.       0.00      0.00      0.00         6\n",
            "                                                                                                                                                                                                                                                                                                                                                                                                                                                                    Лисова Т.А.       0.00      0.00      0.00         1\n",
            "                                                                                                                                                                                                                                                                                                                                                                                                                                                                 Лошкарева Е.П.       0.25      0.33      0.29         3\n",
            "                                                                                                                                                                                                                                                                                                                                                                                                                                                                    Лысова С.И.       0.44      0.60      0.51        78\n",
            "                                                                                                                                                                                                                                                                                                                                                                                                                                          Лысова С.И.Саликова К.В.Тымчиков А.Ю.       0.00      0.00      0.00         1\n",
            "                                                                                                                                                                                                                                                                                                                                                                                                                                                        Лысова С.И.Судаков К.Ю.       0.00      0.00      0.00         1\n",
            "                                                                                                                                                                                                                                                                                                                                                                                                                                                       Лысова С.И.Тымчиков А.Ю.       0.00      0.00      0.00         2\n",
            "                                                                                                                                                                                                                                                                                                                                                                                                                                          Лысова С.И.Тымчиков А.Ю.Саликова К.В.       0.00      0.00      0.00         1\n",
            "                                                                                                                                                                                                                                                                                                                                                                                                                                                                  Мартынюк Е.Д.       0.00      0.00      0.00         1\n",
            "                                                                                                                                                                                                                                                                                                                                                                                                                                                                  Миронова С.В.       0.00      0.00      0.00        10\n",
            "                                                                                                                                                                                                                                                                                                                                                                                                                                                                  Митькина А.Н.       0.00      0.00      0.00         3\n",
            "                                                                                                                                                                                                                                                                                                                                                                                                                                                       Митькина А.Н.Иванюк Л.А.       0.00      0.00      0.00         1\n",
            "                                                                                                                                                                                                                                                                                                                                                                                                                                                     Митькина А.Н.Миронова С.В.       0.00      0.00      0.00         1\n",
            "                                                                                                                                                                                                                                                                                                                                                                                                                                                                   Митяева И.В.       0.33      0.07      0.11        29\n",
            "                                                                                                                                                                                                                                                                                                                                                                                                                                                   Митяева И.В.Крайчинская С.Б.       0.00      0.00      0.00         1\n",
            "                                                                                                                                                                                                                                                                                                                                                                                                                                                              Мухаметзянов Д.Ф.       0.00      0.00      0.00        11\n",
            "                                                                                                                                                                                                                                                                                                                                                                                                                                              Мухаметзянов Д.Ф.Крайчинская С.Б.       0.00      0.00      0.00         1\n",
            "                                                                                                                                                                                                                                                                                                                                                                                                                                                   Мухаметзянов Д.Ф.Лысова С.И.       0.00      0.00      0.00         1\n",
            "                                                                                                                                                                                                                                                                                                                                                                                                                                                    Мухаметзянов Д.Ф.Никул Е.В.       0.00      0.00      0.00         0\n",
            "                                                                                                                                                                                                                                                                                                                                                                                                                                                               Недоспасова О.В.       0.00      0.00      0.00        19\n",
            "                                                                                                                                                                                                                                                                                                                                                                                                                                              Недоспасова О.В.Мухаметзянов Д.Ф.       0.00      0.00      0.00         1\n",
            "                                                                                                                                                                                                                                                                                                                                                                                                                                               Недоспасова О.В.Хворостяная И.В.       0.00      0.00      0.00         1\n",
            "                                                                                                                                                                                                                                                                                                                                                                                                                                                                Нерезькова И.В.       0.00      0.00      0.00         1\n",
            "                                                                                                                                                                                                                                                                                                                                                                                                                                                                     Никул Е.В.       0.28      0.33      0.30        42\n",
            "                                                                                                                                                                                                                                                                                                                                                                                                                                                         Никул Е.В.Гонтарь М.А.       0.00      0.00      0.00         1\n",
            "                                                                                                                                                                                                                                                                                                                                                                                                                                                        Никул Е.В.Кононова Н.А.       0.00      0.00      0.00         4\n",
            "                                                                                                                                                                                                                                                                                                                                                                                                                                        Никул Е.В.Мухаметзянов Д.Ф.Митяева И.В.       0.00      0.00      0.00         1\n",
            "                                                                                                                                                                                                                                                                                                                                                                                                                                                        Никул Е.В.Тымчиков А.Ю.       0.00      0.00      0.00         1\n",
            "                                                                                                                                                                                                                                                                                                                                                                                                                                                 Огородова Л.М.Крайчинская С.Б.       0.00      0.00      0.00         1\n",
            "                                                                                                                                                                                                                                                                                                                              Песошин А.В.Леонов В.А.Бурганов Р.Т.Каримов А.А.Сафаров А.А.Савельев И.Л.Нафигин А.И.Глухова Л.Ю.Сабирова Р.Н.Лихачев А.Е.Уразов Р.Н.Кадыров А.Р.       0.00      0.00      0.00         1\n",
            "                                                                                                                                                                                                                                                                                                                                                                                                                                                                    Плюмпа М.А.       0.00      0.00      0.00         1\n",
            "                                                                                                                                                                                                                                                                                                                                                                                                                                                                    Попова Я.Д.       0.00      0.00      0.00         1\n",
            "                                                                                                                                                                                                                                                                                                                                                                                                                                                                  Саликова К.В.       0.67      0.07      0.13        27\n",
            "                                                                                                                                                                                                                                                                                                                                                                                                                                                     Саликова К.В.Тымчиков А.Ю.       0.00      0.00      0.00         1\n",
            "                                                                                                                                                                                                                                                                                                                                                                                                                                                                  Селукова А.И.       0.00      0.00      0.00         2\n",
            "                                                                                                                                                                                                                                                                                                                                                                                                                                                                Серафимова О.В.       0.00      0.00      0.00         2\n",
            "                                                                                                                                                                                                                                                                                                                                                                                                                                                                  Смирнова Л.В.       0.00      0.00      0.00         2\n",
            "                                                                                                                                                                                                                                                                                                                                                                                                                                                                Степаненко Е.А.       0.25      1.00      0.40         1\n",
            "                                                                                                                                                                                                                                                                                                                                                                                                                                                                   Судаков К.Ю.       0.60      0.75      0.67         4\n",
            "                                                                                                                                                                                                                                                                                                                                                                                                                                                                  Сумакова Е.Д.       0.00      0.00      0.00         1\n",
            "                                                                                                                                                                                                                                                                                                                                                                                                                                                                 Суперекин И.Ю.       0.00      0.00      0.00        16\n",
            "                                                                                                                                                                                                                                                                                                                                                                                                                                                                 Тарасенко М.Е.       0.00      0.00      0.00         1\n",
            "                                                                                                                                                                                                                                                                                                                                                                                                                                                                  Трофимов А.В.       0.00      0.00      0.00         1\n",
            "                                                                                                                                                                                                                                                                                                                                                                                                                                                                  Тымчиков А.Ю.       0.19      0.11      0.14        75\n",
            "                                                                                                                                                                                                                                                                                                                                                                                                                                             Тымчиков А.Ю.Акимов П.М.Базер О.Э.       0.00      0.00      0.00         1\n",
            "                                                                                                                                                                                                                                                                                                                                                                                                                                                       Тымчиков А.Ю.Глушко Д.Е.       0.00      0.00      0.00         4\n",
            "                                                                                                                                                                                                                                                                                                                                                                                                                                                       Тымчиков А.Ю.Лысова С.И.       0.00      0.00      0.00         0\n",
            "                                                                                                                                                                                                                                                                                                                                                                                                                                                        Тымчиков А.Ю.Никул Е.В.       0.00      0.00      0.00         1\n",
            "                                                                                                                                                                                                                                                                                                                                                                                                                                          Тымчиков А.Ю.Никул Е.В.Досканова А.В.       0.00      0.00      0.00         2\n",
            "                                                                                                                                                                                                                                                                                                                                                                                                                                           Тымчиков А.Ю.Никул Е.В.Саликова К.В.       0.00      0.00      0.00         1\n",
            "                                                                                                                                                                                                                                                                                                                                                                                                                                          Тымчиков А.Ю.Трофимов А.В.Акимов П.М.       0.00      0.00      0.00         1\n",
            "                                                                                                                                                                                                                                                                                                                                                                                                                                                                    Уразов Р.Н.       0.62      0.71      0.66       482\n",
            "                                                                                                                                                                                                                                                                                                                                                                                                                                                         Уразов Р.Н.Глушко Д.Е.       0.00      0.00      0.00         2\n",
            "                                                                                                                                                                                                                                                                                                                                                                                                                                                       Уразов Р.Н.Тымчиков А.Ю.       0.00      0.00      0.00         1\n",
            "                                                                                                                                                                                                                                                                                                                                                                                                                                         Уразов Р.Н.Тымчиков А.Ю.Колусенко У.Д.       0.00      0.00      0.00         1\n",
            "                                                                                                                                                                                                                                                                                                                                                                                                                                                                   Уфимцев Д.А.       0.00      0.00      0.00        14\n",
            "                                                                                                                                                                                                                                                                                                                                                                                                                                                                  Федосеев А.И.       0.00      0.00      0.00         3\n",
            "                                                                                                                                                                                                                                                                                                                                                                                                                                                               Хворостяная И.В.       0.22      0.46      0.30        24\n",
            "                                                                                                                                                                                                                                                                                                                                                                                                                                                                     Чуева А.В.       0.00      0.00      0.00         1\n",
            "\n",
            "                                                                                                                                                                                                                                                                                                                                                                                                                                                                       accuracy                           0.53      1640\n",
            "                                                                                                                                                                                                                                                                                                                                                                                                                                                                      macro avg       0.07      0.07      0.06      1640\n",
            "                                                                                                                                                                                                                                                                                                                                                                                                                                                                   weighted avg       0.45      0.53      0.47      1640\n",
            "\n"
          ]
        },
        {
          "output_type": "stream",
          "name": "stderr",
          "text": [
            "/usr/local/lib/python3.7/dist-packages/sklearn/metrics/_classification.py:1318: UndefinedMetricWarning: Precision and F-score are ill-defined and being set to 0.0 in labels with no predicted samples. Use `zero_division` parameter to control this behavior.\n",
            "  _warn_prf(average, modifier, msg_start, len(result))\n",
            "/usr/local/lib/python3.7/dist-packages/sklearn/metrics/_classification.py:1318: UndefinedMetricWarning: Recall and F-score are ill-defined and being set to 0.0 in labels with no true samples. Use `zero_division` parameter to control this behavior.\n",
            "  _warn_prf(average, modifier, msg_start, len(result))\n",
            "/usr/local/lib/python3.7/dist-packages/sklearn/metrics/_classification.py:1318: UndefinedMetricWarning: Precision and F-score are ill-defined and being set to 0.0 in labels with no predicted samples. Use `zero_division` parameter to control this behavior.\n",
            "  _warn_prf(average, modifier, msg_start, len(result))\n",
            "/usr/local/lib/python3.7/dist-packages/sklearn/metrics/_classification.py:1318: UndefinedMetricWarning: Recall and F-score are ill-defined and being set to 0.0 in labels with no true samples. Use `zero_division` parameter to control this behavior.\n",
            "  _warn_prf(average, modifier, msg_start, len(result))\n",
            "/usr/local/lib/python3.7/dist-packages/sklearn/metrics/_classification.py:1318: UndefinedMetricWarning: Precision and F-score are ill-defined and being set to 0.0 in labels with no predicted samples. Use `zero_division` parameter to control this behavior.\n",
            "  _warn_prf(average, modifier, msg_start, len(result))\n",
            "/usr/local/lib/python3.7/dist-packages/sklearn/metrics/_classification.py:1318: UndefinedMetricWarning: Recall and F-score are ill-defined and being set to 0.0 in labels with no true samples. Use `zero_division` parameter to control this behavior.\n",
            "  _warn_prf(average, modifier, msg_start, len(result))\n"
          ]
        }
      ]
    },
    {
      "cell_type": "markdown",
      "source": [
        "## **XGBClassifier**"
      ],
      "metadata": {
        "id": "GbzyY5AYIOrO"
      }
    },
    {
      "cell_type": "code",
      "source": [
        "xgb_cls = XGBClassifier(n_estimators = 100, learning_rate = 0.3, n_jobs = -1, random_state = 20)"
      ],
      "metadata": {
        "id": "L2k_-v-rEw4t"
      },
      "execution_count": 751,
      "outputs": []
    },
    {
      "cell_type": "code",
      "source": [
        "%%time\n",
        "xgb_cls.fit(X_train, y_train)"
      ],
      "metadata": {
        "colab": {
          "base_uri": "https://localhost:8080/"
        },
        "id": "Txupm-nAEyhE",
        "outputId": "096730dc-5315-4db4-a1d4-954b0bd1e2b1"
      },
      "execution_count": 752,
      "outputs": [
        {
          "output_type": "stream",
          "name": "stdout",
          "text": [
            "CPU times: user 12.7 s, sys: 51.6 ms, total: 12.8 s\n",
            "Wall time: 14.8 s\n"
          ]
        },
        {
          "output_type": "execute_result",
          "data": {
            "text/plain": [
              "XGBClassifier(learning_rate=0.3, n_jobs=-1, objective='multi:softprob',\n",
              "              random_state=20)"
            ]
          },
          "metadata": {},
          "execution_count": 752
        }
      ]
    },
    {
      "cell_type": "code",
      "source": [
        "y_pred = xgb_cls.predict(X_test)"
      ],
      "metadata": {
        "id": "A_x46yDGE3fs"
      },
      "execution_count": 753,
      "outputs": []
    },
    {
      "cell_type": "markdown",
      "source": [
        "Точность 0.59 Хороший результат"
      ],
      "metadata": {
        "id": "ue8J7DiXWMC0"
      }
    },
    {
      "cell_type": "code",
      "source": [
        "display(xgb_cls.score(X_train, y_train))"
      ],
      "metadata": {
        "colab": {
          "base_uri": "https://localhost:8080/",
          "height": 34
        },
        "id": "kEGiiU-yVTED",
        "outputId": "0fb1250d-eb0d-4736-abbe-a940a7eeeb62"
      },
      "execution_count": 755,
      "outputs": [
        {
          "output_type": "display_data",
          "data": {
            "text/plain": [
              "0.591824466486324"
            ]
          },
          "metadata": {}
        }
      ]
    },
    {
      "cell_type": "code",
      "source": [
        "print(classification_report(y_test, y_pred))"
      ],
      "metadata": {
        "colab": {
          "base_uri": "https://localhost:8080/"
        },
        "id": "3ybGaVpLE8XG",
        "outputId": "77fd5ec6-11e5-40f0-e951-5e08f515c5d4"
      },
      "execution_count": 754,
      "outputs": [
        {
          "output_type": "stream",
          "name": "stdout",
          "text": [
            "                                                                                                                                                                                                                                                                                                                                                                                                                                                                                 precision    recall  f1-score   support\n",
            "\n",
            "                                                                                                                                                                                                                                                                                                                                                                                                                                                                  Абдуллин А.М.       0.00      0.00      0.00         1\n",
            "                                                                                                                                                                                                                                                                                                                                                                                                                                                                    Алимов А.А.       0.00      0.00      0.00         5\n",
            "                                                                                                                                                                                                                                                                                                                                                                                                                                                                   Антонов Ю.В.       0.00      0.00      0.00         6\n",
            "                                                                                                                                                                                                                                                                                                                                                                                                                                                               Безносикова Н.А.       0.00      0.00      0.00         1\n",
            "                                                                                                                                                                                                                                                                                                                                                                                                                                                                 Вишнякова О.Б.       0.00      0.00      0.00         1\n",
            "Гафуров И.Р.Каримов А.А.Абдулганиев Ф.С.Леонов В.А.Зарипова Э.А.Фаттахов Д.И.Мухаметшин Р.М.Едиханов Р.А.Газизов А.Х.Агеев Ш.Р.Уразов Р.Н.Шагимарданов А.РГараев З.Ф.Юсупов И.У.Гатауллин А.Э.Кабиров Р.Х.Валеев Д.Р.Закиров А.Ф.Шакиров Р.А.Галиуллин Р.Ф.Абдулгалеев З.Т.Салихова Г.Х.Рахимуллина А.Р.Хайрутдинов Т.И.Тазетдинова Л.А.Гатаулин Т.М.Гилязов М.И.Ахметшин Р.К.Гильфанов Х.М.Валиуллин Р.Н.Шаяхметов Р.К.Зинатуллин Р.Р.Бадретдинов Б.М.Усманов А.М.Аблязов К.А.       0.00      0.00      0.00         1\n",
            "                                                                                                                                        Гафуров И.Р.Лаврентьев А.П.Агеев Ш.Р.Афанасьев А.И.Бариев М.М.Залялова А.Г.Вахитов Р.Р.Гайнутдинов А.Р.Гаязов З.Ф.Гильмутдинов И.И.Хамитов Д.Г.Когогин С.А.Афанасьев М.П.Мавликов А.В.Мифтахов Р.З.Маганов Н.У.Павлова О.И.Патяшина М.А.Пустовгаров Ю.Л.Рахимов И.С.Уразов Р.Н.Фардиев И.Ш.Шигабутдинов А.К.Губайдуллин Э.С.Якубов Ю.Д.       0.00      0.00      0.00         1\n",
            "                                                                                                                                                                                                                                                                                                                                                                                                                                                                    Глушко Д.Е.       0.56      0.76      0.64       511\n",
            "                                                                                                                                                                                                                                                                                                                                                                                                                                                      Глушко Д.Е.Досканова А.В.       0.00      0.00      0.00         1\n",
            "                                                                                                                                                                                                                                                                                                                                                                                                                                                         Глушко Д.Е.Иванюк Л.А.       0.00      0.00      0.00         1\n",
            "                                                                                                                                                                                                                                                                                                                                                                                                                                                    Глушко Д.Е.Кожевникова Е.И.       0.00      0.00      0.00         1\n",
            "                                                                                                                                                                                                                                                                                                                                                                                                                                                        Глушко Д.Е.Куколев С.В.       0.00      0.00      0.00         0\n",
            "                                                                                                                                                                                                                                                                                                                                                                                                                                                         Глушко Д.Е.Лысова С.И.       0.00      0.00      0.00         1\n",
            "                                                                                                                                                                                                                                                                                                                                                                                                                                                    Глушко Д.Е.Недоспасова О.В.       0.50      0.50      0.50         2\n",
            "                                                                                                                                                                                                                                                                                                                                                                                                                                                          Глушко Д.Е.Никул Е.В.       0.00      0.00      0.00         1\n",
            "                                                                                                                                                                                                                                                                                                                                                                                                                                                       Глушко Д.Е.Саликова К.В.       0.00      0.00      0.00         2\n",
            "                                                                                                                                                                                                                                                                                                                                                                                                                                                       Глушко Д.Е.Тымчиков А.Ю.       0.00      0.00      0.00        14\n",
            "                                                                                                                                                                                                                                                                                                                                                                                                                                                                   Гонтарь М.А.       0.00      0.00      0.00        27\n",
            "                                                                                                                                                                                                                                                                                                                                                                                                                                                                  Дмитриев М.Г.       0.00      0.00      0.00         1\n",
            "                                                                                                                                                                                                                                                                                                                                                                                                                                                                   Домаева О.Ю.       0.00      0.00      0.00         1\n",
            "                                                                                                                                                                                                                                                                                                                                                                                                                                                                 Досканова А.В.       0.00      0.00      0.00         4\n",
            "                                                                                                                                                                                                                                                                                                                                                                                                                                                                  Дубицкая Ю.А.       0.00      0.00      0.00         2\n",
            "                                                                                                                                                                                                                                                                                                                                                                                                                                                                Желковский И.И.       0.00      0.00      0.00         1\n",
            "                                                                                                                                                                                                                                                                                                                                                                                                                                                                 Зайчикова И.А.       0.00      0.00      0.00         1\n",
            "                                                                                                                                                                                                                                                                                                                                                                                                                                                                 Зензинова К.В.       0.00      0.00      0.00         3\n",
            "                                                                                                                                                                                                                                                                                                                                                                                                                                                                    Иванюк Л.А.       0.50      0.17      0.25         6\n",
            "                                                                                                                                                                                                                                                                                                                                                                                                                                                       Иванюк Л.А.Тымчиков А.Ю.       0.00      0.00      0.00         1\n",
            "                                                                                                                                                                                                                                                                                                                                                                                                                                                               Кожевникова Е.И.       0.00      0.00      0.00         3\n",
            "                                                                                                                                                                                                                                                                                                                                                                                                                                                               Крайчинская С.Б.       0.28      0.18      0.22       103\n",
            "                                                                                                                                                                                                                                                                                                                                                                                                                                                                      Крук С.В.       0.00      0.00      0.00         3\n",
            "                                                                                                                                                                                                                                                                                                                                                                                                                                                                   Куколев С.В.       0.21      0.08      0.12        36\n",
            "                                                                                                                                                                                                                                                                                                                                                                                                                                                       Куколев С.В.Судаков К.Ю.       0.00      0.00      0.00         6\n",
            "                                                                                                                                                                                                                                                                                                                                                                                                                                                                    Лисова Т.А.       0.00      0.00      0.00         1\n",
            "                                                                                                                                                                                                                                                                                                                                                                                                                                                                 Лошкарева Е.П.       0.00      0.00      0.00         3\n",
            "                                                                                                                                                                                                                                                                                                                                                                                                                                                                    Лысова С.И.       0.38      0.65      0.48        78\n",
            "                                                                                                                                                                                                                                                                                                                                                                                                                                          Лысова С.И.Саликова К.В.Тымчиков А.Ю.       0.00      0.00      0.00         1\n",
            "                                                                                                                                                                                                                                                                                                                                                                                                                                                        Лысова С.И.Судаков К.Ю.       0.00      0.00      0.00         1\n",
            "                                                                                                                                                                                                                                                                                                                                                                                                                                                       Лысова С.И.Тымчиков А.Ю.       0.00      0.00      0.00         2\n",
            "                                                                                                                                                                                                                                                                                                                                                                                                                                          Лысова С.И.Тымчиков А.Ю.Саликова К.В.       0.00      0.00      0.00         1\n",
            "                                                                                                                                                                                                                                                                                                                                                                                                                                                                  Мартынюк Е.Д.       0.00      0.00      0.00         1\n",
            "                                                                                                                                                                                                                                                                                                                                                                                                                                                                  Миронова С.В.       0.00      0.00      0.00        10\n",
            "                                                                                                                                                                                                                                                                                                                                                                                                                                                                  Митькина А.Н.       0.00      0.00      0.00         3\n",
            "                                                                                                                                                                                                                                                                                                                                                                                                                                                       Митькина А.Н.Иванюк Л.А.       0.00      0.00      0.00         1\n",
            "                                                                                                                                                                                                                                                                                                                                                                                                                                                     Митькина А.Н.Миронова С.В.       0.00      0.00      0.00         1\n",
            "                                                                                                                                                                                                                                                                                                                                                                                                                                                                   Митяева И.В.       0.40      0.07      0.12        29\n",
            "                                                                                                                                                                                                                                                                                                                                                                                                                                                   Митяева И.В.Крайчинская С.Б.       0.00      0.00      0.00         1\n",
            "                                                                                                                                                                                                                                                                                                                                                                                                                                                              Мухаметзянов Д.Ф.       0.00      0.00      0.00        11\n",
            "                                                                                                                                                                                                                                                                                                                                                                                                                                              Мухаметзянов Д.Ф.Крайчинская С.Б.       0.00      0.00      0.00         1\n",
            "                                                                                                                                                                                                                                                                                                                                                                                                                                                   Мухаметзянов Д.Ф.Лысова С.И.       0.00      0.00      0.00         1\n",
            "                                                                                                                                                                                                                                                                                                                                                                                                                                                               Недоспасова О.В.       0.00      0.00      0.00        19\n",
            "                                                                                                                                                                                                                                                                                                                                                                                                                                              Недоспасова О.В.Мухаметзянов Д.Ф.       0.00      0.00      0.00         1\n",
            "                                                                                                                                                                                                                                                                                                                                                                                                                                               Недоспасова О.В.Хворостяная И.В.       0.00      0.00      0.00         1\n",
            "                                                                                                                                                                                                                                                                                                                                                                                                                                                                Нерезькова И.В.       0.00      0.00      0.00         1\n",
            "                                                                                                                                                                                                                                                                                                                                                                                                                                                                     Никул Е.В.       0.27      0.33      0.30        42\n",
            "                                                                                                                                                                                                                                                                                                                                                                                                                                                         Никул Е.В.Гонтарь М.А.       0.00      0.00      0.00         1\n",
            "                                                                                                                                                                                                                                                                                                                                                                                                                                                        Никул Е.В.Кононова Н.А.       0.00      0.00      0.00         4\n",
            "                                                                                                                                                                                                                                                                                                                                                                                                                                        Никул Е.В.Мухаметзянов Д.Ф.Митяева И.В.       0.00      0.00      0.00         1\n",
            "                                                                                                                                                                                                                                                                                                                                                                                                                                                        Никул Е.В.Тымчиков А.Ю.       0.00      0.00      0.00         1\n",
            "                                                                                                                                                                                                                                                                                                                                                                                                                                                 Огородова Л.М.Крайчинская С.Б.       0.00      0.00      0.00         1\n",
            "                                                                                                                                                                                                                                                                                                                              Песошин А.В.Леонов В.А.Бурганов Р.Т.Каримов А.А.Сафаров А.А.Савельев И.Л.Нафигин А.И.Глухова Л.Ю.Сабирова Р.Н.Лихачев А.Е.Уразов Р.Н.Кадыров А.Р.       0.00      0.00      0.00         1\n",
            "                                                                                                                                                                                                                                                                                                                                                                                                                                                                    Плюмпа М.А.       0.00      0.00      0.00         1\n",
            "                                                                                                                                                                                                                                                                                                                                                                                                                                                                    Попова Я.Д.       0.00      0.00      0.00         1\n",
            "                                                                                                                                                                                                                                                                                                                                                                                                                                                                  Саликова К.В.       0.67      0.07      0.13        27\n",
            "                                                                                                                                                                                                                                                                                                                                                                                                                                                     Саликова К.В.Тымчиков А.Ю.       0.00      0.00      0.00         1\n",
            "                                                                                                                                                                                                                                                                                                                                                                                                                                                                  Селукова А.И.       0.00      0.00      0.00         2\n",
            "                                                                                                                                                                                                                                                                                                                                                                                                                                                                Серафимова О.В.       0.00      0.00      0.00         2\n",
            "                                                                                                                                                                                                                                                                                                                                                                                                                                                                  Смирнова Л.В.       0.00      0.00      0.00         2\n",
            "                                                                                                                                                                                                                                                                                                                                                                                                                                                                Степаненко Е.А.       0.00      0.00      0.00         1\n",
            "                                                                                                                                                                                                                                                                                                                                                                                                                                                                   Судаков К.Ю.       0.00      0.00      0.00         4\n",
            "                                                                                                                                                                                                                                                                                                                                                                                                                                                                  Сумакова Е.Д.       0.00      0.00      0.00         1\n",
            "                                                                                                                                                                                                                                                                                                                                                                                                                                                                 Суперекин И.Ю.       0.00      0.00      0.00        16\n",
            "                                                                                                                                                                                                                                                                                                                                                                                                                                                                 Тарасенко М.Е.       0.00      0.00      0.00         1\n",
            "                                                                                                                                                                                                                                                                                                                                                                                                                                                                  Трофимов А.В.       0.00      0.00      0.00         1\n",
            "                                                                                                                                                                                                                                                                                                                                                                                                                                                                  Тымчиков А.Ю.       0.16      0.07      0.09        75\n",
            "                                                                                                                                                                                                                                                                                                                                                                                                                                             Тымчиков А.Ю.Акимов П.М.Базер О.Э.       0.00      0.00      0.00         1\n",
            "                                                                                                                                                                                                                                                                                                                                                                                                                                                       Тымчиков А.Ю.Глушко Д.Е.       0.00      0.00      0.00         4\n",
            "                                                                                                                                                                                                                                                                                                                                                                                                                                                        Тымчиков А.Ю.Никул Е.В.       0.00      0.00      0.00         1\n",
            "                                                                                                                                                                                                                                                                                                                                                                                                                                          Тымчиков А.Ю.Никул Е.В.Досканова А.В.       0.00      0.00      0.00         2\n",
            "                                                                                                                                                                                                                                                                                                                                                                                                                                           Тымчиков А.Ю.Никул Е.В.Саликова К.В.       0.00      0.00      0.00         1\n",
            "                                                                                                                                                                                                                                                                                                                                                                                                                                          Тымчиков А.Ю.Трофимов А.В.Акимов П.М.       0.00      0.00      0.00         1\n",
            "                                                                                                                                                                                                                                                                                                                                                                                                                                                                    Уразов Р.Н.       0.57      0.72      0.63       482\n",
            "                                                                                                                                                                                                                                                                                                                                                                                                                                                         Уразов Р.Н.Глушко Д.Е.       0.00      0.00      0.00         2\n",
            "                                                                                                                                                                                                                                                                                                                                                                                                                                                       Уразов Р.Н.Тымчиков А.Ю.       0.00      0.00      0.00         1\n",
            "                                                                                                                                                                                                                                                                                                                                                                                                                                         Уразов Р.Н.Тымчиков А.Ю.Колусенко У.Д.       0.00      0.00      0.00         1\n",
            "                                                                                                                                                                                                                                                                                                                                                                                                                                                                   Уфимцев Д.А.       0.00      0.00      0.00        14\n",
            "                                                                                                                                                                                                                                                                                                                                                                                                                                                                  Федосеев А.И.       0.00      0.00      0.00         3\n",
            "                                                                                                                                                                                                                                                                                                                                                                                                                                                               Хворостяная И.В.       0.00      0.00      0.00        24\n",
            "                                                                                                                                                                                                                                                                                                                                                                                                                                                                     Чуева А.В.       0.00      0.00      0.00         1\n",
            "\n",
            "                                                                                                                                                                                                                                                                                                                                                                                                                                                                       accuracy                           0.51      1640\n",
            "                                                                                                                                                                                                                                                                                                                                                                                                                                                                      macro avg       0.05      0.04      0.04      1640\n",
            "                                                                                                                                                                                                                                                                                                                                                                                                                                                                   weighted avg       0.42      0.51      0.44      1640\n",
            "\n"
          ]
        },
        {
          "output_type": "stream",
          "name": "stderr",
          "text": [
            "/usr/local/lib/python3.7/dist-packages/sklearn/metrics/_classification.py:1318: UndefinedMetricWarning: Precision and F-score are ill-defined and being set to 0.0 in labels with no predicted samples. Use `zero_division` parameter to control this behavior.\n",
            "  _warn_prf(average, modifier, msg_start, len(result))\n",
            "/usr/local/lib/python3.7/dist-packages/sklearn/metrics/_classification.py:1318: UndefinedMetricWarning: Recall and F-score are ill-defined and being set to 0.0 in labels with no true samples. Use `zero_division` parameter to control this behavior.\n",
            "  _warn_prf(average, modifier, msg_start, len(result))\n",
            "/usr/local/lib/python3.7/dist-packages/sklearn/metrics/_classification.py:1318: UndefinedMetricWarning: Precision and F-score are ill-defined and being set to 0.0 in labels with no predicted samples. Use `zero_division` parameter to control this behavior.\n",
            "  _warn_prf(average, modifier, msg_start, len(result))\n",
            "/usr/local/lib/python3.7/dist-packages/sklearn/metrics/_classification.py:1318: UndefinedMetricWarning: Recall and F-score are ill-defined and being set to 0.0 in labels with no true samples. Use `zero_division` parameter to control this behavior.\n",
            "  _warn_prf(average, modifier, msg_start, len(result))\n",
            "/usr/local/lib/python3.7/dist-packages/sklearn/metrics/_classification.py:1318: UndefinedMetricWarning: Precision and F-score are ill-defined and being set to 0.0 in labels with no predicted samples. Use `zero_division` parameter to control this behavior.\n",
            "  _warn_prf(average, modifier, msg_start, len(result))\n",
            "/usr/local/lib/python3.7/dist-packages/sklearn/metrics/_classification.py:1318: UndefinedMetricWarning: Recall and F-score are ill-defined and being set to 0.0 in labels with no true samples. Use `zero_division` parameter to control this behavior.\n",
            "  _warn_prf(average, modifier, msg_start, len(result))\n"
          ]
        }
      ]
    },
    {
      "cell_type": "markdown",
      "source": [
        ""
      ],
      "metadata": {
        "id": "7r_AIdVYVpDR"
      }
    },
    {
      "cell_type": "markdown",
      "source": [
        "## **LGBMClassifier**"
      ],
      "metadata": {
        "id": "WI8OhHHaHfbm"
      }
    },
    {
      "cell_type": "code",
      "source": [
        "from lightgbm import LGBMClassifier, plot_tree, plot_importance "
      ],
      "metadata": {
        "id": "L5x4iEUJFDjt"
      },
      "execution_count": 729,
      "outputs": []
    },
    {
      "cell_type": "code",
      "source": [
        "lgbm_cls = LGBMClassifier(n_estimators = 100, learning_rate= 1, random_state=1)"
      ],
      "metadata": {
        "id": "jm-C88klFFiF"
      },
      "execution_count": 732,
      "outputs": []
    },
    {
      "cell_type": "code",
      "source": [
        "%%time\n",
        "lgbm_cls.fit(X_train, y_train)"
      ],
      "metadata": {
        "colab": {
          "base_uri": "https://localhost:8080/"
        },
        "id": "uPJlEU3OFHwF",
        "outputId": "7c13daf6-d41a-4df7-bb85-3ebd05be8253"
      },
      "execution_count": 733,
      "outputs": [
        {
          "output_type": "stream",
          "name": "stdout",
          "text": [
            "CPU times: user 3.12 s, sys: 102 ms, total: 3.22 s\n",
            "Wall time: 3.22 s\n"
          ]
        },
        {
          "output_type": "execute_result",
          "data": {
            "text/plain": [
              "LGBMClassifier(learning_rate=1, random_state=1)"
            ]
          },
          "metadata": {},
          "execution_count": 733
        }
      ]
    },
    {
      "cell_type": "code",
      "source": [
        "y_pred = lgbm_cls.predict(X_test)"
      ],
      "metadata": {
        "id": "b3VrUk4DFJ01"
      },
      "execution_count": 734,
      "outputs": []
    },
    {
      "cell_type": "markdown",
      "source": [
        "0.05 Плохой результат"
      ],
      "metadata": {
        "id": "vorv0i7gWVJ8"
      }
    },
    {
      "cell_type": "code",
      "source": [
        "display(lgbm_cls.score(X_train, y_train))"
      ],
      "metadata": {
        "colab": {
          "base_uri": "https://localhost:8080/",
          "height": 34
        },
        "id": "nzZikuIfVahF",
        "outputId": "a6dfadf4-9546-45c4-d567-5a7a404e4c51"
      },
      "execution_count": 756,
      "outputs": [
        {
          "output_type": "display_data",
          "data": {
            "text/plain": [
              "0.05530507965133754"
            ]
          },
          "metadata": {}
        }
      ]
    },
    {
      "cell_type": "code",
      "source": [
        "print(classification_report(y_test, y_pred))"
      ],
      "metadata": {
        "colab": {
          "base_uri": "https://localhost:8080/"
        },
        "id": "_ncR9BMVFMNd",
        "outputId": "790b161f-7cbe-4d00-b9b2-11d13d0494e6"
      },
      "execution_count": 735,
      "outputs": [
        {
          "output_type": "stream",
          "name": "stdout",
          "text": [
            "                                                                                                                                                                                                                                                                                                                                                                                                                                                                                 precision    recall  f1-score   support\n",
            "\n",
            "                                                                                                                                                                                                                                                                                                                                                                                                                                                                  Абдуллин А.М.       0.00      0.00      0.00         1\n",
            "                                                                                                                                                                                                                                                                                                                                                                                                                                                                    Алимов А.А.       0.00      0.00      0.00         5\n",
            "                                                                                                                                                                                                                                                                                                                                                                                                                                                                   Антонов Ю.В.       0.00      0.00      0.00         6\n",
            "                                                                                                                                                                                                                                                                                                                                                                                                                                                          Базер О.Э.Иванюк Л.А.       0.00      0.00      0.00         0\n",
            "                                                                                                                                                                                                                                                                                                                                                                                                                                                               Безносикова Н.А.       0.00      0.00      0.00         1\n",
            "                                                                                                                                                                                                                                                                                                                                                                                                                                     Бурганов Р.Т.Шайхутдинов Р.А.Тымчиков А.Ю.       0.00      0.00      0.00         0\n",
            "                                                                                                                                                                                                                                                                                                                                                                                                                                                                 Вишнякова О.Б.       0.00      0.00      0.00         1\n",
            "                                                                                                                                                                                                                                                                                                                      Гайзатуллин Р.Р.Песошин А.В.Шайхутдинов Р.А.Бурганов Р.Т.Каримов А.А.Сафаров А.А.Савельев И.Л.Нафигин А.И.Глухова Л.Ю.Сабирова Р.Н.Носков К.Ю.Уразов Р.Н.       0.00      0.00      0.00         0\n",
            "Гафуров И.Р.Каримов А.А.Абдулганиев Ф.С.Леонов В.А.Зарипова Э.А.Фаттахов Д.И.Мухаметшин Р.М.Едиханов Р.А.Газизов А.Х.Агеев Ш.Р.Уразов Р.Н.Шагимарданов А.РГараев З.Ф.Юсупов И.У.Гатауллин А.Э.Кабиров Р.Х.Валеев Д.Р.Закиров А.Ф.Шакиров Р.А.Галиуллин Р.Ф.Абдулгалеев З.Т.Салихова Г.Х.Рахимуллина А.Р.Хайрутдинов Т.И.Тазетдинова Л.А.Гатаулин Т.М.Гилязов М.И.Ахметшин Р.К.Гильфанов Х.М.Валиуллин Р.Н.Шаяхметов Р.К.Зинатуллин Р.Р.Бадретдинов Б.М.Усманов А.М.Аблязов К.А.       0.00      0.00      0.00         1\n",
            "                                                                                                                                        Гафуров И.Р.Лаврентьев А.П.Агеев Ш.Р.Афанасьев А.И.Бариев М.М.Залялова А.Г.Вахитов Р.Р.Гайнутдинов А.Р.Гаязов З.Ф.Гильмутдинов И.И.Хамитов Д.Г.Когогин С.А.Афанасьев М.П.Мавликов А.В.Мифтахов Р.З.Маганов Н.У.Павлова О.И.Патяшина М.А.Пустовгаров Ю.Л.Рахимов И.С.Уразов Р.Н.Фардиев И.Ш.Шигабутдинов А.К.Губайдуллин Э.С.Якубов Ю.Д.       0.00      0.00      0.00         1\n",
            "                                                                                                                                                                                                                                                                                                                                                                                                                                                                    Глушко Д.Е.       0.44      0.05      0.10       511\n",
            "                                                                                                                                                                                                                                                                                                                                                                                                                                                      Глушко Д.Е.Досканова А.В.       0.00      0.00      0.00         1\n",
            "                                                                                                                                                                                                                                                                                                                                                                                                                                                         Глушко Д.Е.Иванюк Л.А.       0.00      0.00      0.00         1\n",
            "                                                                                                                                                                                                                                                                                                                                                                                                                                                    Глушко Д.Е.Кожевникова Е.И.       0.00      0.00      0.00         1\n",
            "                                                                                                                                                                                                                                                                                                                                                                                                                                                         Глушко Д.Е.Лысова С.И.       0.00      0.00      0.00         1\n",
            "                                                                                                                                                                                                                                                                                                                                                                                                                                                    Глушко Д.Е.Недоспасова О.В.       0.00      0.00      0.00         2\n",
            "                                                                                                                                                                                                                                                                                                                                                                                                                                                          Глушко Д.Е.Никул Е.В.       0.00      0.00      0.00         1\n",
            "                                                                                                                                                                                                                                                                                                                                                                                                                                                       Глушко Д.Е.Саликова К.В.       0.00      0.00      0.00         2\n",
            "                                                                                                                                                                                                                                                                                                                                                                                                                                                       Глушко Д.Е.Тымчиков А.Ю.       0.00      0.00      0.00        14\n",
            "                                                                                                                                                                                                                                                                                                                                                                                                                                                                   Гонтарь М.А.       0.02      0.07      0.03        27\n",
            "                                                                                                                                                                                                                                                                                                                                                                                                                                                                  Дмитриев М.Г.       0.00      0.00      0.00         1\n",
            "                                                                                                                                                                                                                                                                                                                                                                                                                                                                   Домаева О.Ю.       0.00      0.00      0.00         1\n",
            "                                                                                                                                                                                                                                                                                                                                                                                                                                                                 Досканова А.В.       0.00      0.00      0.00         4\n",
            "                                                                                                                                                                                                                                                                                                                                                                                                                                                                  Дубицкая Ю.А.       0.00      0.00      0.00         2\n",
            "                                                                                                                                                                                                                                                                                                                                                                                                                                                                Желковский И.И.       0.00      0.00      0.00         1\n",
            "                                                                                                                                                                                                                                                                                                                                                                                                                                                                 Зайчикова И.А.       0.00      0.00      0.00         1\n",
            "                                                                                                                                                                                                                                                                                                                                                                                                                                                                 Зензинова К.В.       0.00      0.00      0.00         3\n",
            "                                                                                                                                                                                                                                                                                                                                                                                                                                                                    Иванюк Л.А.       0.00      0.00      0.00         6\n",
            "                                                                                                                                                                                                                                                                                                                                                                                                                                                       Иванюк Л.А.Тымчиков А.Ю.       0.00      0.00      0.00         1\n",
            "                                                                                                                                                                                                                                                                                                                                                                                                                                                               Кожевникова Е.И.       0.00      0.00      0.00         3\n",
            "                                                                                                                                                                                                                                                                                                                                                                                                                                                               Крайчинская С.Б.       0.12      0.28      0.17       103\n",
            "                                                                                                                                                                                                                                                                                                                                                                                                                                                                      Крук С.В.       0.00      0.00      0.00         3\n",
            "                                                                                                                                                                                                                                                                                                                                                                                                                                                                   Куколев С.В.       0.03      0.69      0.05        36\n",
            "                                                                                                                                                                                                                                                                                                                                                                                                                                                       Куколев С.В.Судаков К.Ю.       0.00      0.00      0.00         6\n",
            "                                                                                                                                                                                                                                                                                                                                                                                                                                                                    Лисова Т.А.       0.00      0.00      0.00         1\n",
            "                                                                                                                                                                                                                                                                                                                                                                                                                                                                 Лошкарева Е.П.       0.00      0.00      0.00         3\n",
            "                                                                                                                                                                                                                                                                                                                                                                                                                                                                    Лысова С.И.       0.00      0.00      0.00        78\n",
            "                                                                                                                                                                                                                                                                                                                                                                                                                                          Лысова С.И.Саликова К.В.Тымчиков А.Ю.       0.00      0.00      0.00         1\n",
            "                                                                                                                                                                                                                                                                                                                                                                                                                                                        Лысова С.И.Судаков К.Ю.       0.00      0.00      0.00         1\n",
            "                                                                                                                                                                                                                                                                                                                                                                                                                                                       Лысова С.И.Тымчиков А.Ю.       0.00      0.00      0.00         2\n",
            "                                                                                                                                                                                                                                                                                                                                                                                                                                          Лысова С.И.Тымчиков А.Ю.Саликова К.В.       0.00      0.00      0.00         1\n",
            "                                                                                                                                                                                                                                                                                                                                                                                                                                                                  Мартынюк Е.Д.       0.00      0.00      0.00         1\n",
            "                                                                                                                                                                                                                                                                                                                                                                                                                                                                  Миронова С.В.       0.00      0.00      0.00        10\n",
            "                                                                                                                                                                                                                                                                                                                                                                                                                                                                  Митькина А.Н.       0.00      0.00      0.00         3\n",
            "                                                                                                                                                                                                                                                                                                                                                                                                                                                       Митькина А.Н.Иванюк Л.А.       0.00      0.00      0.00         1\n",
            "                                                                                                                                                                                                                                                                                                                                                                                                                                                     Митькина А.Н.Миронова С.В.       0.00      0.00      0.00         1\n",
            "                                                                                                                                                                                                                                                                                                                                                                                                                                                                   Митяева И.В.       0.02      0.07      0.03        29\n",
            "                                                                                                                                                                                                                                                                                                                                                                                                                                                   Митяева И.В.Крайчинская С.Б.       0.00      0.00      0.00         1\n",
            "                                                                                                                                                                                                                                                                                                                                                                                                                                                              Мухаметзянов Д.Ф.       0.00      0.00      0.00        11\n",
            "                                                                                                                                                                                                                                                                                                                                                                                                                                              Мухаметзянов Д.Ф.Крайчинская С.Б.       0.00      0.00      0.00         1\n",
            "                                                                                                                                                                                                                                                                                                                                                                                                                                                   Мухаметзянов Д.Ф.Лысова С.И.       0.00      0.00      0.00         1\n",
            "                                                                                                                                                                                                                                                                                                                                                                                                                                                               Недоспасова О.В.       0.00      0.00      0.00        19\n",
            "                                                                                                                                                                                                                                                                                                                                                                                                                                              Недоспасова О.В.Мухаметзянов Д.Ф.       0.00      0.00      0.00         1\n",
            "                                                                                                                                                                                                                                                                                                                                                                                                                                               Недоспасова О.В.Хворостяная И.В.       0.00      0.00      0.00         1\n",
            "                                                                                                                                                                                                                                                                                                                                                                                                                                                                Нерезькова И.В.       0.00      0.00      0.00         1\n",
            "                                                                                                                                                                                                                                                                                                                                                                                                                                                                     Никул Е.В.       0.00      0.00      0.00        42\n",
            "                                                                                                                                                                                                                                                                                                                                                                                                                                                         Никул Е.В.Гонтарь М.А.       0.00      0.00      0.00         1\n",
            "                                                                                                                                                                                                                                                                                                                                                                                                                                                        Никул Е.В.Кононова Н.А.       0.00      0.00      0.00         4\n",
            "                                                                                                                                                                                                                                                                                                                                                                                                                                        Никул Е.В.Мухаметзянов Д.Ф.Митяева И.В.       0.00      0.00      0.00         1\n",
            "                                                                                                                                                                                                                                                                                                                                                                                                                                                        Никул Е.В.Тымчиков А.Ю.       0.00      0.00      0.00         1\n",
            "                                                                                                                                                                                                                                                                                                                                                                                                                                                 Огородова Л.М.Крайчинская С.Б.       0.00      0.00      0.00         1\n",
            "                                                                                                                                                                                                                                                                                                                              Песошин А.В.Леонов В.А.Бурганов Р.Т.Каримов А.А.Сафаров А.А.Савельев И.Л.Нафигин А.И.Глухова Л.Ю.Сабирова Р.Н.Лихачев А.Е.Уразов Р.Н.Кадыров А.Р.       0.00      0.00      0.00         1\n",
            "                                                                                                                                                                                                                                                                                                                                                                                                                                                                    Плюмпа М.А.       0.00      0.00      0.00         1\n",
            "                                                                                                                                                                                                                                                                                                                                                                                                                                                                    Попова Я.Д.       0.00      0.00      0.00         1\n",
            "                                                                                                                                                                                                                                                                                                                                                                                                                                                                  Саликова К.В.       0.00      0.00      0.00        27\n",
            "                                                                                                                                                                                                                                                                                                                                                                                                                                                     Саликова К.В.Тымчиков А.Ю.       0.00      0.00      0.00         1\n",
            "                                                                                                                                                                                                                                                                                                                                                                                                                                                                  Селукова А.И.       0.00      0.00      0.00         2\n",
            "                                                                                                                                                                                                                                                                                                                                                                                                                                                                Серафимова О.В.       0.00      0.00      0.00         2\n",
            "                                                                                                                                                                                                                                                                                                                                                                                                                                                                  Смирнова Л.В.       0.00      0.00      0.00         2\n",
            "                                                                                                                                                                                                                                                                                                                                                                                                                                                                Степаненко Е.А.       0.00      0.00      0.00         1\n",
            "                                                                                                                                                                                                                                                                                                                                                                                                                                                                   Судаков К.Ю.       0.00      0.00      0.00         4\n",
            "                                                                                                                                                                                                                                                                                                                                                                                                                                                                  Сумакова Е.Д.       0.00      0.00      0.00         1\n",
            "                                                                                                                                                                                                                                                                                                                                                                                                                                                                 Суперекин И.Ю.       0.00      0.00      0.00        16\n",
            "                                                                                                                                                                                                                                                                                                                                                                                                                                                                 Тарасенко М.Е.       0.00      0.00      0.00         1\n",
            "                                                                                                                                                                                                                                                                                                                                                                                                                                                                  Трофимов А.В.       0.00      0.00      0.00         1\n",
            "                                                                                                                                                                                                                                                                                                                                                                                                                                                                  Тымчиков А.Ю.       0.00      0.00      0.00        75\n",
            "                                                                                                                                                                                                                                                                                                                                                                                                                                             Тымчиков А.Ю.Акимов П.М.Базер О.Э.       0.00      0.00      0.00         1\n",
            "                                                                                                                                                                                                                                                                                                                                                                                                                                                       Тымчиков А.Ю.Глушко Д.Е.       0.00      0.00      0.00         4\n",
            "                                                                                                                                                                                                                                                                                                                                                                                                                                                        Тымчиков А.Ю.Никул Е.В.       0.00      0.00      0.00         1\n",
            "                                                                                                                                                                                                                                                                                                                                                                                                                                          Тымчиков А.Ю.Никул Е.В.Досканова А.В.       0.00      0.00      0.00         2\n",
            "                                                                                                                                                                                                                                                                                                                                                                                                                                           Тымчиков А.Ю.Никул Е.В.Саликова К.В.       0.00      0.00      0.00         1\n",
            "                                                                                                                                                                                                                                                                                                                                                                                                                                          Тымчиков А.Ю.Трофимов А.В.Акимов П.М.       0.00      0.00      0.00         1\n",
            "                                                                                                                                                                                                                                                                                                                                                                                                                                                                    Уразов Р.Н.       0.50      0.00      0.00       482\n",
            "                                                                                                                                                                                                                                                                                                                                                                                                                                                         Уразов Р.Н.Глушко Д.Е.       0.00      0.00      0.00         2\n",
            "                                                                                                                                                                                                                                                                                                                                                                                                                                                       Уразов Р.Н.Тымчиков А.Ю.       0.00      0.00      0.00         1\n",
            "                                                                                                                                                                                                                                                                                                                                                                                                                                         Уразов Р.Н.Тымчиков А.Ю.Колусенко У.Д.       0.00      0.00      0.00         1\n",
            "                                                                                                                                                                                                                                                                                                                                                                                                                                                                   Уфимцев Д.А.       0.00      0.00      0.00        14\n",
            "                                                                                                                                                                                                                                                                                                                                                                                                                                                                  Федосеев А.И.       0.00      0.00      0.00         3\n",
            "                                                                                                                                                                                                                                                                                                                                                                                                                                                               Хворостяная И.В.       0.00      0.00      0.00        24\n",
            "                                                                                                                                                                                                                                                                                                                                                                                                                                                                     Чуева А.В.       0.00      0.00      0.00         1\n",
            "\n",
            "                                                                                                                                                                                                                                                                                                                                                                                                                                                                       accuracy                           0.05      1640\n",
            "                                                                                                                                                                                                                                                                                                                                                                                                                                                                      macro avg       0.01      0.01      0.00      1640\n",
            "                                                                                                                                                                                                                                                                                                                                                                                                                                                                   weighted avg       0.29      0.05      0.04      1640\n",
            "\n"
          ]
        },
        {
          "output_type": "stream",
          "name": "stderr",
          "text": [
            "/usr/local/lib/python3.7/dist-packages/sklearn/metrics/_classification.py:1318: UndefinedMetricWarning: Precision and F-score are ill-defined and being set to 0.0 in labels with no predicted samples. Use `zero_division` parameter to control this behavior.\n",
            "  _warn_prf(average, modifier, msg_start, len(result))\n",
            "/usr/local/lib/python3.7/dist-packages/sklearn/metrics/_classification.py:1318: UndefinedMetricWarning: Recall and F-score are ill-defined and being set to 0.0 in labels with no true samples. Use `zero_division` parameter to control this behavior.\n",
            "  _warn_prf(average, modifier, msg_start, len(result))\n",
            "/usr/local/lib/python3.7/dist-packages/sklearn/metrics/_classification.py:1318: UndefinedMetricWarning: Precision and F-score are ill-defined and being set to 0.0 in labels with no predicted samples. Use `zero_division` parameter to control this behavior.\n",
            "  _warn_prf(average, modifier, msg_start, len(result))\n",
            "/usr/local/lib/python3.7/dist-packages/sklearn/metrics/_classification.py:1318: UndefinedMetricWarning: Recall and F-score are ill-defined and being set to 0.0 in labels with no true samples. Use `zero_division` parameter to control this behavior.\n",
            "  _warn_prf(average, modifier, msg_start, len(result))\n",
            "/usr/local/lib/python3.7/dist-packages/sklearn/metrics/_classification.py:1318: UndefinedMetricWarning: Precision and F-score are ill-defined and being set to 0.0 in labels with no predicted samples. Use `zero_division` parameter to control this behavior.\n",
            "  _warn_prf(average, modifier, msg_start, len(result))\n",
            "/usr/local/lib/python3.7/dist-packages/sklearn/metrics/_classification.py:1318: UndefinedMetricWarning: Recall and F-score are ill-defined and being set to 0.0 in labels with no true samples. Use `zero_division` parameter to control this behavior.\n",
            "  _warn_prf(average, modifier, msg_start, len(result))\n"
          ]
        }
      ]
    },
    {
      "cell_type": "markdown",
      "source": [
        "## **GridSearchCV**"
      ],
      "metadata": {
        "id": "kk0rZtSGHWxn"
      }
    },
    {
      "cell_type": "code",
      "source": [
        "params = {\"n_estimators\": np.arange(100,300,100)}"
      ],
      "metadata": {
        "id": "1sw_ukyeGpYv"
      },
      "execution_count": 684,
      "outputs": []
    },
    {
      "cell_type": "code",
      "source": [
        "rf_cls = RandomForestClassifier()"
      ],
      "metadata": {
        "id": "Yr8JmZa8Gq9e"
      },
      "execution_count": 685,
      "outputs": []
    },
    {
      "cell_type": "code",
      "source": [
        "grid = GridSearchCV(rf_cls, params, n_jobs = -1)"
      ],
      "metadata": {
        "id": "881-8_xMGsRm"
      },
      "execution_count": 686,
      "outputs": []
    },
    {
      "cell_type": "code",
      "source": [
        "%%time\n",
        "grid.fit(X_train, y_train)"
      ],
      "metadata": {
        "colab": {
          "base_uri": "https://localhost:8080/"
        },
        "id": "DsLWMe7zGtfe",
        "outputId": "b302ad31-5f8f-4ff6-ea7c-99e22ca0a880"
      },
      "execution_count": 687,
      "outputs": [
        {
          "output_type": "stream",
          "name": "stdout",
          "text": [
            "CPU times: user 857 ms, sys: 38.3 ms, total: 895 ms\n",
            "Wall time: 9.64 s\n"
          ]
        },
        {
          "output_type": "execute_result",
          "data": {
            "text/plain": [
              "GridSearchCV(estimator=RandomForestClassifier(), n_jobs=-1,\n",
              "             param_grid={'n_estimators': array([100, 200])})"
            ]
          },
          "metadata": {},
          "execution_count": 687
        }
      ]
    },
    {
      "cell_type": "code",
      "source": [
        "y_pred = grid.best_estimator_.predict(X_test)"
      ],
      "metadata": {
        "id": "Swjg-HOhGy7f"
      },
      "execution_count": 688,
      "outputs": []
    },
    {
      "cell_type": "code",
      "source": [
        "print(classification_report(y_test, y_pred))"
      ],
      "metadata": {
        "colab": {
          "base_uri": "https://localhost:8080/"
        },
        "id": "ZR-wOFhLG1pH",
        "outputId": "fff49953-31ed-4544-ac69-1ed60b675a64"
      },
      "execution_count": 689,
      "outputs": [
        {
          "output_type": "stream",
          "name": "stdout",
          "text": [
            "              precision    recall  f1-score   support\n",
            "\n",
            "           0       0.67      0.75      0.71      1003\n",
            "           1       0.52      0.43      0.47       637\n",
            "\n",
            "    accuracy                           0.62      1640\n",
            "   macro avg       0.60      0.59      0.59      1640\n",
            "weighted avg       0.61      0.62      0.61      1640\n",
            "\n"
          ]
        }
      ]
    },
    {
      "cell_type": "markdown",
      "source": [
        "## **RandomForestClassifier** показал лучшие результаты что по времени, что и по точности"
      ],
      "metadata": {
        "id": "mlUnxXH0VsCj"
      }
    }
  ]
}