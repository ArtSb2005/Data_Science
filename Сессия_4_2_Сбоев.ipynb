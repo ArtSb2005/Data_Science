{
 "cells": [
  {
   "cell_type": "code",
   "execution_count": 88,
   "metadata": {
    "id": "d8L45sMtiIv1"
   },
   "outputs": [],
   "source": [
    "import pandas as pd\n",
    "import numpy as np\n",
    "import seaborn as sns\n",
    "import matplotlib.pyplot as plt\n",
    "import warnings\n",
    "warnings.filterwarnings(\"ignore\")"
   ]
  },
  {
   "cell_type": "code",
   "execution_count": 89,
   "metadata": {
    "colab": {
     "base_uri": "https://localhost:8080/",
     "height": 206
    },
    "id": "UKPaEAGeiksw",
    "outputId": "902e35dc-95bb-4f40-d8a2-f95ad13295aa"
   },
   "outputs": [
    {
     "data": {
      "text/html": [
       "<div>\n",
       "<style scoped>\n",
       "    .dataframe tbody tr th:only-of-type {\n",
       "        vertical-align: middle;\n",
       "    }\n",
       "\n",
       "    .dataframe tbody tr th {\n",
       "        vertical-align: top;\n",
       "    }\n",
       "\n",
       "    .dataframe thead th {\n",
       "        text-align: right;\n",
       "    }\n",
       "</style>\n",
       "<table border=\"1\" class=\"dataframe\">\n",
       "  <thead>\n",
       "    <tr style=\"text-align: right;\">\n",
       "      <th></th>\n",
       "      <th>№ п/п</th>\n",
       "      <th>№документа</th>\n",
       "      <th>Датарегистрации</th>\n",
       "      <th>Исх. №Дата</th>\n",
       "      <th>Адресат</th>\n",
       "      <th>Автор</th>\n",
       "      <th>Краткоесодержание</th>\n",
       "      <th>Примечание</th>\n",
       "    </tr>\n",
       "  </thead>\n",
       "  <tbody>\n",
       "    <tr>\n",
       "      <th>0</th>\n",
       "      <td>1</td>\n",
       "      <td>WSR/1-838/2019</td>\n",
       "      <td>09.04.2019</td>\n",
       "      <td>208-40908.04.2019</td>\n",
       "      <td>Уразов Р.Н.</td>\n",
       "      <td>Антонова С.В. (АО «Интерфакс»)</td>\n",
       "      <td>Вх - О возможности использования сетевого изда...</td>\n",
       "      <td>NaN</td>\n",
       "    </tr>\n",
       "    <tr>\n",
       "      <th>1</th>\n",
       "      <td>2</td>\n",
       "      <td>WSR/1-837/2019</td>\n",
       "      <td>09.04.2019</td>\n",
       "      <td>05-33809.04.2019</td>\n",
       "      <td>Уразов Р.Н.</td>\n",
       "      <td>Картошкин С.А. (Министерство просвещения Росси...</td>\n",
       "      <td>Вх - Об участии в совещании по вопросу доработ...</td>\n",
       "      <td>NaN</td>\n",
       "    </tr>\n",
       "    <tr>\n",
       "      <th>2</th>\n",
       "      <td>3</td>\n",
       "      <td>WSR/1-835/2019</td>\n",
       "      <td>09.04.2019</td>\n",
       "      <td>И10-14/313709.04.2019</td>\n",
       "      <td>Уразов Р.Н.</td>\n",
       "      <td>Цивилев С.Е. (Администрация Кемеровской области)</td>\n",
       "      <td>Вх - О командировании Саликовой К. и Глушко Д....</td>\n",
       "      <td>NaN</td>\n",
       "    </tr>\n",
       "    <tr>\n",
       "      <th>3</th>\n",
       "      <td>4</td>\n",
       "      <td>WSR/1-834/2019</td>\n",
       "      <td>09.04.2019</td>\n",
       "      <td>Д2/7121-ИС03.04.2019</td>\n",
       "      <td>Иванюк Л.А.</td>\n",
       "      <td>Волков Г.А. (Министерство транспорта Российско...</td>\n",
       "      <td>Вх - Об участии в Чемпионате мира по профессио...</td>\n",
       "      <td>NaN</td>\n",
       "    </tr>\n",
       "    <tr>\n",
       "      <th>4</th>\n",
       "      <td>5</td>\n",
       "      <td>WSR/1-833/2019</td>\n",
       "      <td>09.04.2019</td>\n",
       "      <td>15-20/06-91108.04.2019</td>\n",
       "      <td>Уразов Р.Н.</td>\n",
       "      <td>Атанов И.В. (Ставропольский государственный аг...</td>\n",
       "      <td>Вх - Об участии в церемонии открытия Вузовског...</td>\n",
       "      <td>NaN</td>\n",
       "    </tr>\n",
       "  </tbody>\n",
       "</table>\n",
       "</div>"
      ],
      "text/plain": [
       "   № п/п      №документа Датарегистрации              Исх. №Дата      Адресат  \\\n",
       "0      1  WSR/1-838/2019      09.04.2019       208-40908.04.2019  Уразов Р.Н.   \n",
       "1      2  WSR/1-837/2019      09.04.2019        05-33809.04.2019  Уразов Р.Н.   \n",
       "2      3  WSR/1-835/2019      09.04.2019   И10-14/313709.04.2019  Уразов Р.Н.   \n",
       "3      4  WSR/1-834/2019      09.04.2019    Д2/7121-ИС03.04.2019  Иванюк Л.А.   \n",
       "4      5  WSR/1-833/2019      09.04.2019  15-20/06-91108.04.2019  Уразов Р.Н.   \n",
       "\n",
       "                                               Автор  \\\n",
       "0                     Антонова С.В. (АО «Интерфакс»)   \n",
       "1  Картошкин С.А. (Министерство просвещения Росси...   \n",
       "2   Цивилев С.Е. (Администрация Кемеровской области)   \n",
       "3  Волков Г.А. (Министерство транспорта Российско...   \n",
       "4  Атанов И.В. (Ставропольский государственный аг...   \n",
       "\n",
       "                                   Краткоесодержание Примечание  \n",
       "0  Вх - О возможности использования сетевого изда...        NaN  \n",
       "1  Вх - Об участии в совещании по вопросу доработ...        NaN  \n",
       "2  Вх - О командировании Саликовой К. и Глушко Д....        NaN  \n",
       "3  Вх - Об участии в Чемпионате мира по профессио...        NaN  \n",
       "4  Вх - Об участии в церемонии открытия Вузовског...        NaN  "
      ]
     },
     "execution_count": 89,
     "metadata": {},
     "output_type": "execute_result"
    }
   ],
   "source": [
    "data = pd.read_html(r\"C:\\Users\\WSR\\Desktop\\Сессия 1\\Выгрузка 9 апреля.xls\")\n",
    "df = data[1]\n",
    "df.head()"
   ]
  },
  {
   "cell_type": "markdown",
   "metadata": {
    "id": "XPvqvcMjxIp2"
   },
   "source": [
    "## **Обработка текса**"
   ]
  },
  {
   "cell_type": "markdown",
   "metadata": {
    "id": "LjjEsClqJeWf"
   },
   "source": [
    "Дополнение нужными данными"
   ]
  },
  {
   "cell_type": "code",
   "execution_count": 90,
   "metadata": {
    "id": "tcd9d0x8ipGA"
   },
   "outputs": [],
   "source": [
    "df['Агенство'] = df.Автор.apply(lambda x: x.split(\"(\")[1].replace(')',''))"
   ]
  },
  {
   "cell_type": "code",
   "execution_count": 91,
   "metadata": {
    "id": "EQIOGmAajL5o"
   },
   "outputs": [],
   "source": [
    "df['Автор'] = df.Автор.apply(lambda x: x.split(\"(\")[0] + x.split(\")\")[1])"
   ]
  },
  {
   "cell_type": "code",
   "execution_count": 92,
   "metadata": {
    "id": "kgSteVOwpPvD"
   },
   "outputs": [],
   "source": [
    "df['Краткоесодержание'] = df.Краткоесодержание.apply(lambda x: x.replace('Вх',' '))"
   ]
  },
  {
   "cell_type": "markdown",
   "metadata": {
    "id": "8-a3F2MKJa6P"
   },
   "source": [
    "Удаление пустых полей"
   ]
  },
  {
   "cell_type": "code",
   "execution_count": 93,
   "metadata": {
    "colab": {
     "base_uri": "https://localhost:8080/"
    },
    "id": "PwK72rKYjO6P",
    "outputId": "a35c667d-0b84-4ce6-f6fb-d160668b2e1b"
   },
   "outputs": [
    {
     "data": {
      "text/plain": [
       "№ п/п                   0\n",
       "№документа              2\n",
       "Датарегистрации         2\n",
       "Исх. №Дата              0\n",
       "Адресат                 0\n",
       "Автор                   0\n",
       "Краткоесодержание       0\n",
       "Примечание           4659\n",
       "Агенство                0\n",
       "dtype: int64"
      ]
     },
     "execution_count": 93,
     "metadata": {},
     "output_type": "execute_result"
    }
   ],
   "source": [
    "df.isna().sum()"
   ]
  },
  {
   "cell_type": "code",
   "execution_count": 94,
   "metadata": {
    "id": "FfRLwXO6jQRW"
   },
   "outputs": [],
   "source": [
    "df = df.fillna(-1)"
   ]
  },
  {
   "cell_type": "code",
   "execution_count": 95,
   "metadata": {
    "colab": {
     "base_uri": "https://localhost:8080/"
    },
    "id": "pyrjKr8GjSF4",
    "outputId": "a08cfe25-d38b-4b11-ded8-d7add70ef722"
   },
   "outputs": [
    {
     "data": {
      "text/plain": [
       "№ п/п                0\n",
       "№документа           0\n",
       "Датарегистрации      0\n",
       "Исх. №Дата           0\n",
       "Адресат              0\n",
       "Автор                0\n",
       "Краткоесодержание    0\n",
       "Примечание           0\n",
       "Агенство             0\n",
       "dtype: int64"
      ]
     },
     "execution_count": 95,
     "metadata": {},
     "output_type": "execute_result"
    }
   ],
   "source": [
    "df.isna().sum()"
   ]
  },
  {
   "cell_type": "code",
   "execution_count": 96,
   "metadata": {
    "id": "SNe_kGUejbV1"
   },
   "outputs": [],
   "source": [
    "agents = []\n",
    "agents_number_one = ['Министерств', 'Правительств', 'Федеральн', 'Администр']\n",
    "for i in df.Агенство:\n",
    "  br = 0\n",
    "  for t in agents_number_one:\n",
    "    if br:\n",
    "      break\n",
    "    if t in i:\n",
    "      br=1\n",
    "      agents.append(1)\n",
    "  if not(br):\n",
    "    agents.append(0)"
   ]
  },
  {
   "cell_type": "code",
   "execution_count": 97,
   "metadata": {
    "colab": {
     "base_uri": "https://localhost:8080/",
     "height": 206
    },
    "id": "bF6y0imtjdWd",
    "outputId": "6231babc-4c8e-4bee-e0f0-7d5e43b1b6f2"
   },
   "outputs": [
    {
     "data": {
      "text/html": [
       "<div>\n",
       "<style scoped>\n",
       "    .dataframe tbody tr th:only-of-type {\n",
       "        vertical-align: middle;\n",
       "    }\n",
       "\n",
       "    .dataframe tbody tr th {\n",
       "        vertical-align: top;\n",
       "    }\n",
       "\n",
       "    .dataframe thead th {\n",
       "        text-align: right;\n",
       "    }\n",
       "</style>\n",
       "<table border=\"1\" class=\"dataframe\">\n",
       "  <thead>\n",
       "    <tr style=\"text-align: right;\">\n",
       "      <th></th>\n",
       "      <th>№ п/п</th>\n",
       "      <th>№документа</th>\n",
       "      <th>Датарегистрации</th>\n",
       "      <th>Исх. №Дата</th>\n",
       "      <th>Адресат</th>\n",
       "      <th>Автор</th>\n",
       "      <th>Краткоесодержание</th>\n",
       "      <th>Примечание</th>\n",
       "      <th>Агенство</th>\n",
       "      <th>Тип_агенства</th>\n",
       "    </tr>\n",
       "  </thead>\n",
       "  <tbody>\n",
       "    <tr>\n",
       "      <th>0</th>\n",
       "      <td>1</td>\n",
       "      <td>WSR/1-838/2019</td>\n",
       "      <td>09.04.2019</td>\n",
       "      <td>208-40908.04.2019</td>\n",
       "      <td>Уразов Р.Н.</td>\n",
       "      <td>Антонова С.В.</td>\n",
       "      <td>- О возможности использования сетевого издан...</td>\n",
       "      <td>-1</td>\n",
       "      <td>АО «Интерфакс»</td>\n",
       "      <td>0</td>\n",
       "    </tr>\n",
       "    <tr>\n",
       "      <th>1</th>\n",
       "      <td>2</td>\n",
       "      <td>WSR/1-837/2019</td>\n",
       "      <td>09.04.2019</td>\n",
       "      <td>05-33809.04.2019</td>\n",
       "      <td>Уразов Р.Н.</td>\n",
       "      <td>Картошкин С.А.</td>\n",
       "      <td>- Об участии в совещании по вопросу доработк...</td>\n",
       "      <td>-1</td>\n",
       "      <td>Министерство просвещения Российской Федерации</td>\n",
       "      <td>1</td>\n",
       "    </tr>\n",
       "    <tr>\n",
       "      <th>2</th>\n",
       "      <td>3</td>\n",
       "      <td>WSR/1-835/2019</td>\n",
       "      <td>09.04.2019</td>\n",
       "      <td>И10-14/313709.04.2019</td>\n",
       "      <td>Уразов Р.Н.</td>\n",
       "      <td>Цивилев С.Е.</td>\n",
       "      <td>- О командировании Саликовой К. и Глушко Д. ...</td>\n",
       "      <td>-1</td>\n",
       "      <td>Администрация Кемеровской области</td>\n",
       "      <td>1</td>\n",
       "    </tr>\n",
       "    <tr>\n",
       "      <th>3</th>\n",
       "      <td>4</td>\n",
       "      <td>WSR/1-834/2019</td>\n",
       "      <td>09.04.2019</td>\n",
       "      <td>Д2/7121-ИС03.04.2019</td>\n",
       "      <td>Иванюк Л.А.</td>\n",
       "      <td>Волков Г.А.</td>\n",
       "      <td>- Об участии в Чемпионате мира по профессион...</td>\n",
       "      <td>-1</td>\n",
       "      <td>Министерство транспорта Российской Федерации</td>\n",
       "      <td>1</td>\n",
       "    </tr>\n",
       "    <tr>\n",
       "      <th>4</th>\n",
       "      <td>5</td>\n",
       "      <td>WSR/1-833/2019</td>\n",
       "      <td>09.04.2019</td>\n",
       "      <td>15-20/06-91108.04.2019</td>\n",
       "      <td>Уразов Р.Н.</td>\n",
       "      <td>Атанов И.В.</td>\n",
       "      <td>- Об участии в церемонии открытия Вузовского...</td>\n",
       "      <td>-1</td>\n",
       "      <td>Ставропольский государственный аграрный универ...</td>\n",
       "      <td>0</td>\n",
       "    </tr>\n",
       "  </tbody>\n",
       "</table>\n",
       "</div>"
      ],
      "text/plain": [
       "   № п/п      №документа Датарегистрации              Исх. №Дата      Адресат  \\\n",
       "0      1  WSR/1-838/2019      09.04.2019       208-40908.04.2019  Уразов Р.Н.   \n",
       "1      2  WSR/1-837/2019      09.04.2019        05-33809.04.2019  Уразов Р.Н.   \n",
       "2      3  WSR/1-835/2019      09.04.2019   И10-14/313709.04.2019  Уразов Р.Н.   \n",
       "3      4  WSR/1-834/2019      09.04.2019    Д2/7121-ИС03.04.2019  Иванюк Л.А.   \n",
       "4      5  WSR/1-833/2019      09.04.2019  15-20/06-91108.04.2019  Уразов Р.Н.   \n",
       "\n",
       "             Автор                                  Краткоесодержание  \\\n",
       "0   Антонова С.В.     - О возможности использования сетевого издан...   \n",
       "1  Картошкин С.А.     - Об участии в совещании по вопросу доработк...   \n",
       "2    Цивилев С.Е.     - О командировании Саликовой К. и Глушко Д. ...   \n",
       "3     Волков Г.А.     - Об участии в Чемпионате мира по профессион...   \n",
       "4     Атанов И.В.     - Об участии в церемонии открытия Вузовского...   \n",
       "\n",
       "  Примечание                                           Агенство  Тип_агенства  \n",
       "0         -1                                     АО «Интерфакс»             0  \n",
       "1         -1      Министерство просвещения Российской Федерации             1  \n",
       "2         -1                  Администрация Кемеровской области             1  \n",
       "3         -1       Министерство транспорта Российской Федерации             1  \n",
       "4         -1  Ставропольский государственный аграрный универ...             0  "
      ]
     },
     "execution_count": 97,
     "metadata": {},
     "output_type": "execute_result"
    }
   ],
   "source": [
    "df['Тип_агенства'] = list(agents)\n",
    "df.head()"
   ]
  },
  {
   "cell_type": "code",
   "execution_count": 98,
   "metadata": {
    "colab": {
     "base_uri": "https://localhost:8080/"
    },
    "id": "5L2yiHvrlTAL",
    "outputId": "58c77227-2451-4002-cd05-28bfdb58fdf7"
   },
   "outputs": [
    {
     "data": {
      "text/plain": [
       "  - О составе СМИ на WorldSkills Kazan 2019                                                                                                                                      51\n",
       "  - О направлении заявки на проведение демонстрационного экзамена по стандартам Ворлдскиллс Россия в 2019 году                                                                   32\n",
       "  - Об участии в финале II Национального межвузовского чемпионата «Молодые профессионалы (Ворлдскиллс Россия)»                                                                   30\n",
       "  - О представителе в Региональном совете Союза                                                                                                                                  28\n",
       "О направлении заявки на отбор субъектов РФ для участия в пилотной апробации проведения демонстрационного экзамена по стандартам Ворлдскиллс Россия в 2018 году                   26\n",
       "                                                                                                                                                                                 ..\n",
       "  - О внесении данных в ESIM                                                                                                                                                      1\n",
       "  - О возможности открытия компетенции \"Технологическое проектирование механический обработки\"                                                                                    1\n",
       "  - аккредитация СЦК по компетенции \"Лабораторный химический анализ\"                                                                                                              1\n",
       "  - Судебный запрос о предоставлении данных для разрешения дела №2-3510/2018 об оспаривании действий и возложении обязанности по выплате денежных средств г-на Альжанова Б.Р.     1\n",
       "Участие в Чемпионате WorldSkills Hi-Tech Екатеринбург 03-07.11.2017                                                                                                               1\n",
       "Name: Краткоесодержание, Length: 3891, dtype: int64"
      ]
     },
     "execution_count": 98,
     "metadata": {},
     "output_type": "execute_result"
    }
   ],
   "source": [
    "df['Краткоесодержание'].value_counts()"
   ]
  },
  {
   "cell_type": "code",
   "execution_count": 99,
   "metadata": {
    "colab": {
     "base_uri": "https://localhost:8080/"
    },
    "id": "4pkvxnVkm3Qq",
    "outputId": "4ad9e284-725d-4854-caa9-80ed4e42839c"
   },
   "outputs": [
    {
     "name": "stdout",
     "output_type": "stream",
     "text": [
      "Requirement already satisfied: pymorphy2 in c:\\users\\wsr\\anaconda3\\lib\\site-packages (0.9.1)\n",
      "Requirement already satisfied: docopt>=0.6 in c:\\users\\wsr\\anaconda3\\lib\\site-packages (from pymorphy2) (0.6.2)\n",
      "Requirement already satisfied: pymorphy2-dicts-ru<3.0,>=2.4 in c:\\users\\wsr\\anaconda3\\lib\\site-packages (from pymorphy2) (2.4.417127.4579844)\n",
      "Requirement already satisfied: dawg-python>=0.7.1 in c:\\users\\wsr\\anaconda3\\lib\\site-packages (from pymorphy2) (0.7.2)\n"
     ]
    }
   ],
   "source": [
    "!pip install pymorphy2"
   ]
  },
  {
   "cell_type": "code",
   "execution_count": 100,
   "metadata": {
    "colab": {
     "base_uri": "https://localhost:8080/"
    },
    "id": "NtlHlcj_m46K",
    "outputId": "255d2f63-56b2-4648-bf6a-2f46b40406a2"
   },
   "outputs": [
    {
     "name": "stderr",
     "output_type": "stream",
     "text": [
      "[nltk_data] Downloading package stopwords to\n",
      "[nltk_data]     C:\\Users\\WSR\\AppData\\Roaming\\nltk_data...\n",
      "[nltk_data]   Package stopwords is already up-to-date!\n"
     ]
    }
   ],
   "source": [
    "import nltk\n",
    "nltk.download(\"stopwords\")\n",
    "from nltk.corpus import stopwords"
   ]
  },
  {
   "cell_type": "code",
   "execution_count": 101,
   "metadata": {
    "colab": {
     "base_uri": "https://localhost:8080/"
    },
    "id": "VW7ialc9m63r",
    "outputId": "10071b4e-4665-44ca-c260-74d26de292be"
   },
   "outputs": [
    {
     "data": {
      "text/plain": [
       "['и',\n",
       " 'в',\n",
       " 'во',\n",
       " 'не',\n",
       " 'что',\n",
       " 'он',\n",
       " 'на',\n",
       " 'я',\n",
       " 'с',\n",
       " 'со',\n",
       " 'как',\n",
       " 'а',\n",
       " 'то',\n",
       " 'все',\n",
       " 'она',\n",
       " 'так',\n",
       " 'его',\n",
       " 'но',\n",
       " 'да',\n",
       " 'ты',\n",
       " 'к',\n",
       " 'у',\n",
       " 'же',\n",
       " 'вы',\n",
       " 'за',\n",
       " 'бы',\n",
       " 'по',\n",
       " 'только',\n",
       " 'ее',\n",
       " 'мне',\n",
       " 'было',\n",
       " 'вот',\n",
       " 'от',\n",
       " 'меня',\n",
       " 'еще',\n",
       " 'нет',\n",
       " 'о',\n",
       " 'из',\n",
       " 'ему',\n",
       " 'теперь',\n",
       " 'когда',\n",
       " 'даже',\n",
       " 'ну',\n",
       " 'вдруг',\n",
       " 'ли',\n",
       " 'если',\n",
       " 'уже',\n",
       " 'или',\n",
       " 'ни',\n",
       " 'быть',\n",
       " 'был',\n",
       " 'него',\n",
       " 'до',\n",
       " 'вас',\n",
       " 'нибудь',\n",
       " 'опять',\n",
       " 'уж',\n",
       " 'вам',\n",
       " 'ведь',\n",
       " 'там',\n",
       " 'потом',\n",
       " 'себя',\n",
       " 'ничего',\n",
       " 'ей',\n",
       " 'может',\n",
       " 'они',\n",
       " 'тут',\n",
       " 'где',\n",
       " 'есть',\n",
       " 'надо',\n",
       " 'ней',\n",
       " 'для',\n",
       " 'мы',\n",
       " 'тебя',\n",
       " 'их',\n",
       " 'чем',\n",
       " 'была',\n",
       " 'сам',\n",
       " 'чтоб',\n",
       " 'без',\n",
       " 'будто',\n",
       " 'чего',\n",
       " 'раз',\n",
       " 'тоже',\n",
       " 'себе',\n",
       " 'под',\n",
       " 'будет',\n",
       " 'ж',\n",
       " 'тогда',\n",
       " 'кто',\n",
       " 'этот',\n",
       " 'того',\n",
       " 'потому',\n",
       " 'этого',\n",
       " 'какой',\n",
       " 'совсем',\n",
       " 'ним',\n",
       " 'здесь',\n",
       " 'этом',\n",
       " 'один',\n",
       " 'почти',\n",
       " 'мой',\n",
       " 'тем',\n",
       " 'чтобы',\n",
       " 'нее',\n",
       " 'сейчас',\n",
       " 'были',\n",
       " 'куда',\n",
       " 'зачем',\n",
       " 'всех',\n",
       " 'никогда',\n",
       " 'можно',\n",
       " 'при',\n",
       " 'наконец',\n",
       " 'два',\n",
       " 'об',\n",
       " 'другой',\n",
       " 'хоть',\n",
       " 'после',\n",
       " 'над',\n",
       " 'больше',\n",
       " 'тот',\n",
       " 'через',\n",
       " 'эти',\n",
       " 'нас',\n",
       " 'про',\n",
       " 'всего',\n",
       " 'них',\n",
       " 'какая',\n",
       " 'много',\n",
       " 'разве',\n",
       " 'три',\n",
       " 'эту',\n",
       " 'моя',\n",
       " 'впрочем',\n",
       " 'хорошо',\n",
       " 'свою',\n",
       " 'этой',\n",
       " 'перед',\n",
       " 'иногда',\n",
       " 'лучше',\n",
       " 'чуть',\n",
       " 'том',\n",
       " 'нельзя',\n",
       " 'такой',\n",
       " 'им',\n",
       " 'более',\n",
       " 'всегда',\n",
       " 'конечно',\n",
       " 'всю',\n",
       " 'между']"
      ]
     },
     "execution_count": 101,
     "metadata": {},
     "output_type": "execute_result"
    }
   ],
   "source": [
    "all_stopwords = stopwords.words(\"russian\")\n",
    "all_stopwords"
   ]
  },
  {
   "cell_type": "code",
   "execution_count": 102,
   "metadata": {
    "id": "7a5m3U2UnLHC"
   },
   "outputs": [],
   "source": [
    "list2 = []\n",
    "for j in df.Краткоесодержание:\n",
    "  list1 = []\n",
    "  for i in j.split(\" \"):\n",
    "    if i not in all_stopwords:\n",
    "      list1.append(i)\n",
    "  \n",
    "  list2.append((\" \").join(list1))"
   ]
  },
  {
   "cell_type": "code",
   "execution_count": 103,
   "metadata": {
    "id": "ukZTTMaPnRqa"
   },
   "outputs": [],
   "source": [
    "df.text = list2"
   ]
  },
  {
   "cell_type": "code",
   "execution_count": 104,
   "metadata": {
    "id": "0DQAtDvqlhYZ"
   },
   "outputs": [],
   "source": [
    "import re"
   ]
  },
  {
   "cell_type": "code",
   "execution_count": 105,
   "metadata": {
    "id": "5mvI3rDLlyRr"
   },
   "outputs": [],
   "source": [
    "patterns = \"[0-9!#$%&'()*+,./:;<=>?@[\\]^_`{|}~—\\\"\\-]+\"\n",
    "pattern1 = re.compile(r'\\s+')\n",
    "\n",
    "list1 = []\n",
    "for i in df.Краткоесодержание:\n",
    "  svf = i.lower()\n",
    "  svf = re.sub(patterns, '', svf)\n",
    "  svf = re.sub(pattern1, ' ', svf)\n",
    "  list1.append(svf)"
   ]
  },
  {
   "cell_type": "code",
   "execution_count": 106,
   "metadata": {
    "id": "Ad8ZrDDel8Gr"
   },
   "outputs": [],
   "source": [
    "df.Краткоесодержание = list1"
   ]
  },
  {
   "cell_type": "code",
   "execution_count": 107,
   "metadata": {
    "id": "k-P1uzQTmA4x"
   },
   "outputs": [],
   "source": [
    "from nltk.stem.snowball import SnowballStemmer"
   ]
  },
  {
   "cell_type": "code",
   "execution_count": 108,
   "metadata": {
    "id": "12F2fZ2GmA-b"
   },
   "outputs": [],
   "source": [
    "stemmer = SnowballStemmer(\"russian\")\n",
    "def stm(doc):\n",
    "    tokens = []\n",
    "    for token in doc.split():\n",
    "      token = stemmer.stem(token)\n",
    "      tokens.append(token)\n",
    "    if len(tokens) > 0:\n",
    "        return (\" \").join(tokens)\n",
    "    return None"
   ]
  },
  {
   "cell_type": "code",
   "execution_count": 109,
   "metadata": {
    "id": "00bRMwWWmE-h"
   },
   "outputs": [],
   "source": [
    "df.Краткоесодержание = df.Краткоесодержание.apply(stm)"
   ]
  },
  {
   "cell_type": "markdown",
   "metadata": {
    "id": "DpNxJrjFxSQP"
   },
   "source": [
    "## **Векторизация**"
   ]
  },
  {
   "cell_type": "code",
   "execution_count": 110,
   "metadata": {
    "id": "fC22owhKq6yM"
   },
   "outputs": [],
   "source": [
    "from sklearn.ensemble import RandomForestClassifier\n",
    "from sklearn.metrics import recall_score\n",
    "from sklearn.model_selection import train_test_split\n",
    "from sklearn.feature_extraction.text import TfidfVectorizer\n",
    "from sklearn.preprocessing import StandardScaler\n",
    "from sklearn.model_selection import train_test_split\n",
    "from sklearn.metrics import classification_report, f1_score"
   ]
  },
  {
   "cell_type": "code",
   "execution_count": 111,
   "metadata": {
    "id": "JU9yTSMbjy_I"
   },
   "outputs": [],
   "source": [
    "X = df.Краткоесодержание\n",
    "y = df.Адресат\t"
   ]
  },
  {
   "cell_type": "code",
   "execution_count": 112,
   "metadata": {
    "id": "Qf0ao_gFj8w5"
   },
   "outputs": [],
   "source": [
    "X_train, X_test, y_train, y_test = train_test_split(X, y, test_size = 0.33)\n",
    "X_train = X_train.reset_index(drop = True)\n",
    "y_train = y_train.reset_index(drop = True)\n",
    "X_test = X_test.reset_index(drop = True)\n",
    "y_test = y_test.reset_index(drop = True)"
   ]
  },
  {
   "cell_type": "code",
   "execution_count": 113,
   "metadata": {
    "id": "zQUjbHGpk5PJ"
   },
   "outputs": [],
   "source": [
    "vectorizer = TfidfVectorizer(max_features = 2000)"
   ]
  },
  {
   "cell_type": "code",
   "execution_count": 114,
   "metadata": {
    "id": "BtoIpxLVsg6s"
   },
   "outputs": [],
   "source": [
    "X_train = vectorizer.fit_transform(X_train)\n",
    "X_test = vectorizer.transform(X_test)"
   ]
  },
  {
   "cell_type": "code",
   "execution_count": 115,
   "metadata": {
    "id": "pXnR35wrk_kZ"
   },
   "outputs": [],
   "source": [
    "model_SVC = RandomForestClassifier(n_estimators = 100)\n",
    "model_SVC.fit(X_train, y_train)\n",
    "res = model_SVC.predict(X_test)"
   ]
  },
  {
   "cell_type": "markdown",
   "metadata": {
    "id": "X7s2SL4bJCJ4"
   },
   "source": [
    "Точность 68%, очень хорошая точность, получилось повысить на 10% засчёт обработки текста"
   ]
  },
  {
   "cell_type": "code",
   "execution_count": 116,
   "metadata": {
    "colab": {
     "base_uri": "https://localhost:8080/",
     "height": 35
    },
    "id": "fOYo7wjJlE2A",
    "outputId": "1bde8aa8-8a77-40d2-923c-208fd7dfa1bc"
   },
   "outputs": [
    {
     "data": {
      "text/plain": [
       "0.6835365853658537"
      ]
     },
     "metadata": {},
     "output_type": "display_data"
    }
   ],
   "source": [
    "display(model_SVC.score(X_test, y_test))"
   ]
  },
  {
   "cell_type": "markdown",
   "metadata": {
    "id": "t8Sgze7txXLv"
   },
   "source": [
    "## Бот\n",
    "### **Чтобы посмотреть инструкцию введите #help**"
   ]
  },
  {
   "cell_type": "code",
   "execution_count": null,
   "metadata": {
    "id": "AVnDJNtWwND2"
   },
   "outputs": [],
   "source": [
    "def textadres():\n",
    "  classificationResult = model_SVC.predict(vectorizer.transform([request1]))\n",
    "  return classificationResult[0]\n",
    "\n",
    "while True:\n",
    "  request = input('Посмотреть инструкцию - #help\\nВаше сообщение >')\n",
    "  if request == '#help':\n",
    "    print('Чтобы определить адресата по введённоиу документу - #text-adres\\nЧтобы определить адресата по введённоиу документу на естественном языке - #natural-lang-text')\n",
    "  elif request == '#text-adres' or request == '#natural-lang-text':\n",
    "    request1 = input('Введите документ >')\n",
    "    print('Адресат данного документа '+ textadres())\n",
    "  else:\n",
    "    print('Вы несёте что-то непонятное')"
   ]
  },
  {
   "cell_type": "code",
   "execution_count": 117,
   "metadata": {},
   "outputs": [],
   "source": [
    "import pickle"
   ]
  },
  {
   "cell_type": "code",
   "execution_count": null,
   "metadata": {},
   "outputs": [],
   "source": []
  },
  {
   "cell_type": "code",
   "execution_count": 118,
   "metadata": {},
   "outputs": [
    {
     "name": "stdout",
     "output_type": "stream",
     "text": [
      "Requirement already satisfied: Flask in c:\\users\\wsr\\anaconda3\\lib\\site-packages (1.1.2)\n",
      "Requirement already satisfied: itsdangerous>=0.24 in c:\\users\\wsr\\anaconda3\\lib\\site-packages (from Flask) (2.0.1)\n",
      "Requirement already satisfied: Werkzeug>=0.15 in c:\\users\\wsr\\anaconda3\\lib\\site-packages (from Flask) (2.0.2)\n",
      "Requirement already satisfied: Jinja2>=2.10.1 in c:\\users\\wsr\\anaconda3\\lib\\site-packages (from Flask) (2.11.3)\n",
      "Requirement already satisfied: click>=5.1 in c:\\users\\wsr\\anaconda3\\lib\\site-packages (from Flask) (8.0.3)\n",
      "Requirement already satisfied: colorama in c:\\users\\wsr\\anaconda3\\lib\\site-packages (from click>=5.1->Flask) (0.4.4)\n",
      "Requirement already satisfied: MarkupSafe>=0.23 in c:\\users\\wsr\\anaconda3\\lib\\site-packages (from Jinja2>=2.10.1->Flask) (1.1.1)\n"
     ]
    }
   ],
   "source": [
    "!pip install Flask"
   ]
  },
  {
   "cell_type": "code",
   "execution_count": null,
   "metadata": {},
   "outputs": [
    {
     "name": "stdout",
     "output_type": "stream",
     "text": [
      " * Serving Flask app \"__main__\" (lazy loading)\n",
      " * Environment: production\n",
      "\u001b[31m   WARNING: This is a development server. Do not use it in a production deployment.\u001b[0m\n",
      "\u001b[2m   Use a production WSGI server instead.\u001b[0m\n",
      " * Debug mode: off\n"
     ]
    },
    {
     "name": "stderr",
     "output_type": "stream",
     "text": [
      " * Running on http://127.0.0.1:5000/ (Press CTRL+C to quit)\n"
     ]
    }
   ],
   "source": [
    "from flask import Flask\n",
    "import numpy as np\n",
    "import traceback\n",
    "import pickle\n",
    "\n",
    "\n",
    "app = Flask(__name__)\n",
    "\n",
    "with open('/home/sboev_art/model/rf_cls', 'rb') as f:\n",
    "   classifier = pickle.load (f)\n",
    "\n",
    " \n",
    "@app.route('/', methods=['GET', 'POST'])\n",
    "def main():\n",
    "  request1='О Национальном чемпионате 2019'\n",
    "  classificationResult = classifier.predict()\n",
    "  return classificationResult\n",
    " \n",
    "if __name__ == \"__main__\":\n",
    "   app.run()"
   ]
  },
  {
   "cell_type": "code",
   "execution_count": null,
   "metadata": {},
   "outputs": [],
   "source": []
  }
 ],
 "metadata": {
  "colab": {
   "collapsed_sections": [],
   "name": "WS 2 день сессия 4.ipynb",
   "provenance": []
  },
  "kernelspec": {
   "display_name": "Python 3 (ipykernel)",
   "language": "python",
   "name": "python3"
  },
  "language_info": {
   "codemirror_mode": {
    "name": "ipython",
    "version": 3
   },
   "file_extension": ".py",
   "mimetype": "text/x-python",
   "name": "python",
   "nbconvert_exporter": "python",
   "pygments_lexer": "ipython3",
   "version": "3.9.7"
  }
 },
 "nbformat": 4,
 "nbformat_minor": 1
}
